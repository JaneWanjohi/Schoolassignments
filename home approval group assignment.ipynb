{
  "cells": [
    {
      "cell_type": "code",
      "execution_count": 25,
      "metadata": {
        "id": "fAxeVeYCy8uT"
      },
      "outputs": [],
      "source": [
        "import pandas as pd\n",
        "import matplotlib.pyplot as plt\n",
        "import numpy as np # linear algebra\n",
        "import pandas as pd # data processing, CSV file I/O (e.g. pd.read_csv)\n",
        "import matplotlib.pyplot as plt\n",
        "import seaborn as sns\n",
        "%matplotlib inline\n",
        "from sklearn.model_selection import train_test_split as tts\n",
        "from sklearn.preprocessing import LabelEncoder\n",
        "from sklearn.preprocessing import StandardScaler\n",
        "from sklearn.neighbors import KNeighborsClassifier\n",
        "from sklearn.model_selection import GridSearchCV\n",
        "from sklearn.metrics import classification_report\n",
        "from sklearn.metrics import accuracy_score"
      ]
    },
    {
      "cell_type": "code",
      "execution_count": null,
      "metadata": {
        "id": "MEAedKkwJ3Fb"
      },
      "outputs": [],
      "source": []
    },
    {
      "cell_type": "markdown",
      "metadata": {
        "id": "q8QHTorb1BFM"
      },
      "source": [
        "# New Section"
      ]
    },
    {
      "cell_type": "markdown",
      "metadata": {
        "id": "tcp93D9o2tj-"
      },
      "source": [
        "# New Section"
      ]
    },
    {
      "cell_type": "code",
      "execution_count": 3,
      "metadata": {
        "id": "syk99fHD1tWW"
      },
      "outputs": [],
      "source": []
    },
    {
      "cell_type": "code",
      "execution_count": 5,
      "metadata": {
        "id": "niZw34Jz1ta1"
      },
      "outputs": [],
      "source": [
        "!"
      ]
    },
    {
      "cell_type": "code",
      "execution_count": 6,
      "metadata": {
        "id": "Jpm1iKle1teh"
      },
      "outputs": [],
      "source": [
        "import pandas as pd"
      ]
    },
    {
      "cell_type": "code",
      "execution_count": 7,
      "metadata": {
        "id": "Tm1mOx996t0C"
      },
      "outputs": [],
      "source": [
        "dftest=pd.read_csv('/content/drive/MyDrive/Colab Notebooks/data/loan_sanction_test.csv')"
      ]
    },
    {
      "cell_type": "code",
      "execution_count": 79,
      "metadata": {
        "id": "vGNoZzB36wvj"
      },
      "outputs": [],
      "source": [
        "train=pd.read_csv('/content/drive/MyDrive/Colab Notebooks/data/loan_sanction_train.csv')"
      ]
    },
    {
      "cell_type": "code",
      "execution_count": 11,
      "metadata": {
        "colab": {
          "base_uri": "https://localhost:8080/"
        },
        "id": "eScXX6Tm6xw3",
        "outputId": "b57a3276-abe5-475c-b0c0-0ba693cb2595"
      },
      "outputs": [
        {
          "data": {
            "text/plain": [
              "Index(['Loan_ID', 'Gender', 'Married', 'Dependents', 'Education',\n",
              "       'Self_Employed', 'ApplicantIncome', 'CoapplicantIncome', 'LoanAmount',\n",
              "       'Loan_Amount_Term', 'Credit_History', 'Property_Area', 'Loan_Status'],\n",
              "      dtype='object')"
            ]
          },
          "execution_count": 11,
          "metadata": {},
          "output_type": "execute_result"
        }
      ],
      "source": [
        "train.columns"
      ]
    },
    {
      "cell_type": "code",
      "execution_count": 23,
      "metadata": {
        "colab": {
          "base_uri": "https://localhost:8080/"
        },
        "id": "uYjHgJZw-Byf",
        "outputId": "6cc27d2d-a61c-4253-b686-c6dfb45d6a3c"
      },
      "outputs": [
        {
          "data": {
            "text/plain": [
              "0      360.0\n",
              "1      360.0\n",
              "2      360.0\n",
              "3      360.0\n",
              "4      360.0\n",
              "       ...  \n",
              "362    360.0\n",
              "363    360.0\n",
              "364    360.0\n",
              "365    360.0\n",
              "366    180.0\n",
              "Name: Loan_Amount_Term, Length: 367, dtype: float64"
            ]
          },
          "execution_count": 23,
          "metadata": {},
          "output_type": "execute_result"
        }
      ],
      "source": []
    },
    {
      "cell_type": "code",
      "execution_count": 12,
      "metadata": {
        "colab": {
          "base_uri": "https://localhost:8080/"
        },
        "id": "ELuiyV336_Rl",
        "outputId": "7b6d9091-6d69-41ff-ad53-ab0f6baaaada"
      },
      "outputs": [
        {
          "data": {
            "text/plain": [
              "Loan_ID               0\n",
              "Gender               13\n",
              "Married               3\n",
              "Dependents           15\n",
              "Education             0\n",
              "Self_Employed        32\n",
              "ApplicantIncome       0\n",
              "CoapplicantIncome     0\n",
              "LoanAmount           22\n",
              "Loan_Amount_Term     14\n",
              "Credit_History       50\n",
              "Property_Area         0\n",
              "Loan_Status           0\n",
              "dtype: int64"
            ]
          },
          "execution_count": 12,
          "metadata": {},
          "output_type": "execute_result"
        }
      ],
      "source": [
        "train.isna().sum() "
      ]
    },
    {
      "cell_type": "code",
      "execution_count": 14,
      "metadata": {
        "colab": {
          "base_uri": "https://localhost:8080/"
        },
        "id": "uMwa9qnm7fLY",
        "outputId": "dcabbed0-ea61-4160-d218-9ccc83eefc60"
      },
      "outputs": [
        {
          "data": {
            "text/plain": [
              "(Loan_ID              0\n",
              " Gender               0\n",
              " Married              0\n",
              " Dependents           0\n",
              " Education            0\n",
              " Self_Employed        0\n",
              " ApplicantIncome      0\n",
              " CoapplicantIncome    0\n",
              " LoanAmount           0\n",
              " Loan_Amount_Term     0\n",
              " Credit_History       0\n",
              " Property_Area        0\n",
              " Loan_Status          0\n",
              " dtype: int64, (480, 13))"
            ]
          },
          "execution_count": 14,
          "metadata": {},
          "output_type": "execute_result"
        }
      ],
      "source": [
        "train=train.dropna()\n",
        "train.isnull().sum(), train.shape\n"
      ]
    },
    {
      "cell_type": "code",
      "execution_count": 15,
      "metadata": {
        "colab": {
          "base_uri": "https://localhost:8080/"
        },
        "id": "g1wdW_Dv808G",
        "outputId": "2befd342-37de-49a1-e8e5-190d1536436b"
      },
      "outputs": [
        {
          "data": {
            "text/plain": [
              "(480, 13)"
            ]
          },
          "execution_count": 15,
          "metadata": {},
          "output_type": "execute_result"
        }
      ],
      "source": [
        "train.shape"
      ]
    },
    {
      "cell_type": "code",
      "execution_count": 17,
      "metadata": {
        "id": "QOW_xGQj891a"
      },
      "outputs": [],
      "source": [
        "gender_counts = train.groupby('Gender')['Loan_Status'].count()\n"
      ]
    },
    {
      "cell_type": "code",
      "execution_count": 67,
      "metadata": {
        "colab": {
          "base_uri": "https://localhost:8080/",
          "height": 352
        },
        "id": "KWF2vqLnJ5v8",
        "outputId": "ab7f7bed-11fa-4c87-a2a2-1c684684048b"
      },
      "outputs": [
        {
          "name": "stderr",
          "output_type": "stream",
          "text": [
            "/usr/local/lib/python3.9/dist-packages/seaborn/_decorators.py:36: FutureWarning: Pass the following variable as a keyword arg: x. From version 0.12, the only valid positional argument will be `data`, and passing other arguments without an explicit keyword will result in an error or misinterpretation.\n",
            "  warnings.warn(\n"
          ]
        },
        {
          "data": {
            "image/png": "[encoded data removed]",
            "text/plain": [
              "<Figure size 432x288 with 1 Axes>"
            ]
          },
          "metadata": {},
          "output_type": "display_data"
        }
      ],
      "source": [
        "##### Check Data is imbalanced or not #####\n",
        "plt.title('Check Data is imbalanced or not '.capitalize())\n",
        "sns.countplot(train.loc[:, 'Loan_Status'])\n",
        "plt.show()"
      ]
    },
    {
      "cell_type": "code",
      "execution_count": 83,
      "metadata": {
        "colab": {
          "base_uri": "https://localhost:8080/"
        },
        "id": "W4oVsoVvKGvz",
        "outputId": "6e9d2a9c-5e38-44bb-a4f3-11d9b369555b"
      },
      "outputs": [
        {
          "name": "stdout",
          "output_type": "stream",
          "text": [
            "Gender has unique attribue #  2\n",
            "Married has unique attribue #  2\n",
            "Dependents has unique attribue #  4\n",
            "Education has unique attribue #  2\n",
            "Self_Employed has unique attribue #  2\n",
            "Property_Area has unique attribue #  3\n"
          ]
        }
      ],
      "source": [
        "#### Find the unique attribute of the categorical columns #####\n",
        "for feature_ in train.dtypes[train.dtypes == 'object'].index:\n",
        "  if feature_ == 'Loan_ID':\n",
        "    continue\n",
        "  else:\n",
        "    print(f'{feature_} has unique attribue # ', train.loc[:, feature_].nunique())"
      ]
    },
    {
      "cell_type": "code",
      "execution_count": 82,
      "metadata": {
        "colab": {
          "base_uri": "https://localhost:8080/",
          "height": 287
        },
        "id": "ycjAWu9sKcnK",
        "outputId": "c9af9860-7662-4696-ab4b-f4aa6b60c5b4"
      },
      "outputs": [
        {
          "data": {
            "text/html": [
              "\n",
              "  <div id=\"df-df82b27e-f097-4940-a98d-3e1534b8cbaa\">\n",
              "    <div class=\"colab-df-container\">\n",
              "      <div>\n",
              "<style scoped>\n",
              "    .dataframe tbody tr th:only-of-type {\n",
              "        vertical-align: middle;\n",
              "    }\n",
              "\n",
              "    .dataframe tbody tr th {\n",
              "        vertical-align: top;\n",
              "    }\n",
              "\n",
              "    .dataframe thead th {\n",
              "        text-align: right;\n",
              "    }\n",
              "</style>\n",
              "<table border=\"1\" class=\"dataframe\">\n",
              "  <thead>\n",
              "    <tr style=\"text-align: right;\">\n",
              "      <th></th>\n",
              "      <th>Loan_ID</th>\n",
              "      <th>Gender</th>\n",
              "      <th>Married</th>\n",
              "      <th>Dependents</th>\n",
              "      <th>Education</th>\n",
              "      <th>Self_Employed</th>\n",
              "      <th>ApplicantIncome</th>\n",
              "      <th>CoapplicantIncome</th>\n",
              "      <th>LoanAmount</th>\n",
              "      <th>Loan_Amount_Term</th>\n",
              "      <th>Credit_History</th>\n",
              "      <th>Property_Area</th>\n",
              "      <th>Loan_Status</th>\n",
              "    </tr>\n",
              "  </thead>\n",
              "  <tbody>\n",
              "    <tr>\n",
              "      <th>0</th>\n",
              "      <td>LP001002</td>\n",
              "      <td>Male</td>\n",
              "      <td>No</td>\n",
              "      <td>0</td>\n",
              "      <td>Graduate</td>\n",
              "      <td>No</td>\n",
              "      <td>5849</td>\n",
              "      <td>0.0</td>\n",
              "      <td>NaN</td>\n",
              "      <td>360.0</td>\n",
              "      <td>1.0</td>\n",
              "      <td>Urban</td>\n",
              "      <td>1</td>\n",
              "    </tr>\n",
              "    <tr>\n",
              "      <th>1</th>\n",
              "      <td>LP001003</td>\n",
              "      <td>Male</td>\n",
              "      <td>Yes</td>\n",
              "      <td>1</td>\n",
              "      <td>Graduate</td>\n",
              "      <td>No</td>\n",
              "      <td>4583</td>\n",
              "      <td>1508.0</td>\n",
              "      <td>128.0</td>\n",
              "      <td>360.0</td>\n",
              "      <td>1.0</td>\n",
              "      <td>Rural</td>\n",
              "      <td>0</td>\n",
              "    </tr>\n",
              "    <tr>\n",
              "      <th>2</th>\n",
              "      <td>LP001005</td>\n",
              "      <td>Male</td>\n",
              "      <td>Yes</td>\n",
              "      <td>0</td>\n",
              "      <td>Graduate</td>\n",
              "      <td>Yes</td>\n",
              "      <td>3000</td>\n",
              "      <td>0.0</td>\n",
              "      <td>66.0</td>\n",
              "      <td>360.0</td>\n",
              "      <td>1.0</td>\n",
              "      <td>Urban</td>\n",
              "      <td>1</td>\n",
              "    </tr>\n",
              "    <tr>\n",
              "      <th>3</th>\n",
              "      <td>LP001006</td>\n",
              "      <td>Male</td>\n",
              "      <td>Yes</td>\n",
              "      <td>0</td>\n",
              "      <td>Not Graduate</td>\n",
              "      <td>No</td>\n",
              "      <td>2583</td>\n",
              "      <td>2358.0</td>\n",
              "      <td>120.0</td>\n",
              "      <td>360.0</td>\n",
              "      <td>1.0</td>\n",
              "      <td>Urban</td>\n",
              "      <td>1</td>\n",
              "    </tr>\n",
              "    <tr>\n",
              "      <th>4</th>\n",
              "      <td>LP001008</td>\n",
              "      <td>Male</td>\n",
              "      <td>No</td>\n",
              "      <td>0</td>\n",
              "      <td>Graduate</td>\n",
              "      <td>No</td>\n",
              "      <td>6000</td>\n",
              "      <td>0.0</td>\n",
              "      <td>141.0</td>\n",
              "      <td>360.0</td>\n",
              "      <td>1.0</td>\n",
              "      <td>Urban</td>\n",
              "      <td>1</td>\n",
              "    </tr>\n",
              "  </tbody>\n",
              "</table>\n",
              "</div>\n",
              "      <button class=\"colab-df-convert\" onclick=\"convertToInteractive('df-df82b27e-f097-4940-a98d-3e1534b8cbaa')\"\n",
              "              title=\"Convert this dataframe to an interactive table.\"\n",
              "              style=\"display:none;\">\n",
              "        \n",
              "  <svg xmlns=\"http://www.w3.org/2000/svg\" height=\"24px\"viewBox=\"0 0 24 24\"\n",
              "       width=\"24px\">\n",
              "    <path d=\"M0 0h24v24H0V0z\" fill=\"none\"/>\n",
              "    <path d=\"M18.56 5.44l.94 2.06.94-2.06 2.06-.94-2.06-.94-.94-2.06-.94 2.06-2.06.94zm-11 1L8.5 8.5l.94-2.06 2.06-.94-2.06-.94L8.5 2.5l-.94 2.06-2.06.94zm10 10l.94 2.06.94-2.06 2.06-.94-2.06-.94-.94-2.06-.94 2.06-2.06.94z\"/><path d=\"M17.41 7.96l-1.37-1.37c-.4-.4-.92-.59-1.43-.59-.52 0-1.04.2-1.43.59L10.3 9.45l-7.72 7.72c-.78.78-.78 2.05 0 2.83L4 21.41c.39.39.9.59 1.41.59.51 0 1.02-.2 1.41-.59l7.78-7.78 2.81-2.81c.8-.78.8-2.07 0-2.86zM5.41 20L4 18.59l7.72-7.72 1.47 1.35L5.41 20z\"/>\n",
              "  </svg>\n",
              "      </button>\n",
              "      \n",
              "  <style>\n",
              "    .colab-df-container {\n",
              "      display:flex;\n",
              "      flex-wrap:wrap;\n",
              "      gap: 12px;\n",
              "    }\n",
              "\n",
              "    .colab-df-convert {\n",
              "      background-color: #E8F0FE;\n",
              "      border: none;\n",
              "      border-radius: 50%;\n",
              "      cursor: pointer;\n",
              "      display: none;\n",
              "      fill: #1967D2;\n",
              "      height: 32px;\n",
              "      padding: 0 0 0 0;\n",
              "      width: 32px;\n",
              "    }\n",
              "\n",
              "    .colab-df-convert:hover {\n",
              "      background-color: #E2EBFA;\n",
              "      box-shadow: 0px 1px 2px rgba(60, 64, 67, 0.3), 0px 1px 3px 1px rgba(60, 64, 67, 0.15);\n",
              "      fill: #174EA6;\n",
              "    }\n",
              "\n",
              "    [theme=dark] .colab-df-convert {\n",
              "      background-color: #3B4455;\n",
              "      fill: #D2E3FC;\n",
              "    }\n",
              "\n",
              "    [theme=dark] .colab-df-convert:hover {\n",
              "      background-color: #434B5C;\n",
              "      box-shadow: 0px 1px 3px 1px rgba(0, 0, 0, 0.15);\n",
              "      filter: drop-shadow(0px 1px 2px rgba(0, 0, 0, 0.3));\n",
              "      fill: #FFFFFF;\n",
              "    }\n",
              "  </style>\n",
              "\n",
              "      <script>\n",
              "        const buttonEl =\n",
              "          document.querySelector('#df-df82b27e-f097-4940-a98d-3e1534b8cbaa button.colab-df-convert');\n",
              "        buttonEl.style.display =\n",
              "          google.colab.kernel.accessAllowed ? 'block' : 'none';\n",
              "\n",
              "        async function convertToInteractive(key) {\n",
              "          const element = document.querySelector('#df-df82b27e-f097-4940-a98d-3e1534b8cbaa');\n",
              "          const dataTable =\n",
              "            await google.colab.kernel.invokeFunction('convertToInteractive',\n",
              "                                                     [key], {});\n",
              "          if (!dataTable) return;\n",
              "\n",
              "          const docLinkHtml = 'Like what you see? Visit the ' +\n",
              "            '<a target=\"_blank\" href=https://colab.research.google.com/notebooks/data_table.ipynb>data table notebook</a>'\n",
              "            + ' to learn more about interactive tables.';\n",
              "          element.innerHTML = '';\n",
              "          dataTable['output_type'] = 'display_data';\n",
              "          await google.colab.output.renderOutput(dataTable, element);\n",
              "          const docLink = document.createElement('div');\n",
              "          docLink.innerHTML = docLinkHtml;\n",
              "          element.appendChild(docLink);\n",
              "        }\n",
              "      </script>\n",
              "    </div>\n",
              "  </div>\n",
              "  "
            ],
            "text/plain": [
              "    Loan_ID Gender Married Dependents     Education Self_Employed  \\\n",
              "0  LP001002   Male      No          0      Graduate            No   \n",
              "1  LP001003   Male     Yes          1      Graduate            No   \n",
              "2  LP001005   Male     Yes          0      Graduate           Yes   \n",
              "3  LP001006   Male     Yes          0  Not Graduate            No   \n",
              "4  LP001008   Male      No          0      Graduate            No   \n",
              "\n",
              "   ApplicantIncome  CoapplicantIncome  LoanAmount  Loan_Amount_Term  \\\n",
              "0             5849                0.0         NaN             360.0   \n",
              "1             4583             1508.0       128.0             360.0   \n",
              "2             3000                0.0        66.0             360.0   \n",
              "3             2583             2358.0       120.0             360.0   \n",
              "4             6000                0.0       141.0             360.0   \n",
              "\n",
              "   Credit_History Property_Area  Loan_Status  \n",
              "0             1.0         Urban            1  \n",
              "1             1.0         Rural            0  \n",
              "2             1.0         Urban            1  \n",
              "3             1.0         Urban            1  \n",
              "4             1.0         Urban            1  "
            ]
          },
          "execution_count": 82,
          "metadata": {},
          "output_type": "execute_result"
        }
      ],
      "source": [
        "##### Convert Loan_Status into Label Encoding #####\n",
        "train.loc[:, 'Loan_Status'] = train.loc[:, 'Loan_Status'].map({'Y': 1, 'N': 0})\n",
        "\n",
        "train.head()"
      ]
    },
    {
      "cell_type": "code",
      "execution_count": 84,
      "metadata": {
        "colab": {
          "base_uri": "https://localhost:8080/",
          "height": 143
        },
        "id": "_ir_WMo3LoKY",
        "outputId": "f880d3ab-8c96-40b0-89b0-a23277f77335"
      },
      "outputs": [
        {
          "data": {
            "text/html": [
              "\n",
              "  <div id=\"df-9811a9e8-5936-4297-83a1-acdb30df313e\">\n",
              "    <div class=\"colab-df-container\">\n",
              "      <div>\n",
              "<style scoped>\n",
              "    .dataframe tbody tr th:only-of-type {\n",
              "        vertical-align: middle;\n",
              "    }\n",
              "\n",
              "    .dataframe tbody tr th {\n",
              "        vertical-align: top;\n",
              "    }\n",
              "\n",
              "    .dataframe thead th {\n",
              "        text-align: right;\n",
              "    }\n",
              "</style>\n",
              "<table border=\"1\" class=\"dataframe\">\n",
              "  <thead>\n",
              "    <tr style=\"text-align: right;\">\n",
              "      <th></th>\n",
              "      <th>count</th>\n",
              "      <th>sum</th>\n",
              "      <th>mean</th>\n",
              "    </tr>\n",
              "    <tr>\n",
              "      <th>Gender</th>\n",
              "      <th></th>\n",
              "      <th></th>\n",
              "      <th></th>\n",
              "    </tr>\n",
              "  </thead>\n",
              "  <tbody>\n",
              "    <tr>\n",
              "      <th>Female</th>\n",
              "      <td>112</td>\n",
              "      <td>75</td>\n",
              "      <td>0.669643</td>\n",
              "    </tr>\n",
              "    <tr>\n",
              "      <th>Male</th>\n",
              "      <td>489</td>\n",
              "      <td>339</td>\n",
              "      <td>0.693252</td>\n",
              "    </tr>\n",
              "  </tbody>\n",
              "</table>\n",
              "</div>\n",
              "      <button class=\"colab-df-convert\" onclick=\"convertToInteractive('df-9811a9e8-5936-4297-83a1-acdb30df313e')\"\n",
              "              title=\"Convert this dataframe to an interactive table.\"\n",
              "              style=\"display:none;\">\n",
              "        \n",
              "  <svg xmlns=\"http://www.w3.org/2000/svg\" height=\"24px\"viewBox=\"0 0 24 24\"\n",
              "       width=\"24px\">\n",
              "    <path d=\"M0 0h24v24H0V0z\" fill=\"none\"/>\n",
              "    <path d=\"M18.56 5.44l.94 2.06.94-2.06 2.06-.94-2.06-.94-.94-2.06-.94 2.06-2.06.94zm-11 1L8.5 8.5l.94-2.06 2.06-.94-2.06-.94L8.5 2.5l-.94 2.06-2.06.94zm10 10l.94 2.06.94-2.06 2.06-.94-2.06-.94-.94-2.06-.94 2.06-2.06.94z\"/><path d=\"M17.41 7.96l-1.37-1.37c-.4-.4-.92-.59-1.43-.59-.52 0-1.04.2-1.43.59L10.3 9.45l-7.72 7.72c-.78.78-.78 2.05 0 2.83L4 21.41c.39.39.9.59 1.41.59.51 0 1.02-.2 1.41-.59l7.78-7.78 2.81-2.81c.8-.78.8-2.07 0-2.86zM5.41 20L4 18.59l7.72-7.72 1.47 1.35L5.41 20z\"/>\n",
              "  </svg>\n",
              "      </button>\n",
              "      \n",
              "  <style>\n",
              "    .colab-df-container {\n",
              "      display:flex;\n",
              "      flex-wrap:wrap;\n",
              "      gap: 12px;\n",
              "    }\n",
              "\n",
              "    .colab-df-convert {\n",
              "      background-color: #E8F0FE;\n",
              "      border: none;\n",
              "      border-radius: 50%;\n",
              "      cursor: pointer;\n",
              "      display: none;\n",
              "      fill: #1967D2;\n",
              "      height: 32px;\n",
              "      padding: 0 0 0 0;\n",
              "      width: 32px;\n",
              "    }\n",
              "\n",
              "    .colab-df-convert:hover {\n",
              "      background-color: #E2EBFA;\n",
              "      box-shadow: 0px 1px 2px rgba(60, 64, 67, 0.3), 0px 1px 3px 1px rgba(60, 64, 67, 0.15);\n",
              "      fill: #174EA6;\n",
              "    }\n",
              "\n",
              "    [theme=dark] .colab-df-convert {\n",
              "      background-color: #3B4455;\n",
              "      fill: #D2E3FC;\n",
              "    }\n",
              "\n",
              "    [theme=dark] .colab-df-convert:hover {\n",
              "      background-color: #434B5C;\n",
              "      box-shadow: 0px 1px 3px 1px rgba(0, 0, 0, 0.15);\n",
              "      filter: drop-shadow(0px 1px 2px rgba(0, 0, 0, 0.3));\n",
              "      fill: #FFFFFF;\n",
              "    }\n",
              "  </style>\n",
              "\n",
              "      <script>\n",
              "        const buttonEl =\n",
              "          document.querySelector('#df-9811a9e8-5936-4297-83a1-acdb30df313e button.colab-df-convert');\n",
              "        buttonEl.style.display =\n",
              "          google.colab.kernel.accessAllowed ? 'block' : 'none';\n",
              "\n",
              "        async function convertToInteractive(key) {\n",
              "          const element = document.querySelector('#df-9811a9e8-5936-4297-83a1-acdb30df313e');\n",
              "          const dataTable =\n",
              "            await google.colab.kernel.invokeFunction('convertToInteractive',\n",
              "                                                     [key], {});\n",
              "          if (!dataTable) return;\n",
              "\n",
              "          const docLinkHtml = 'Like what you see? Visit the ' +\n",
              "            '<a target=\"_blank\" href=https://colab.research.google.com/notebooks/data_table.ipynb>data table notebook</a>'\n",
              "            + ' to learn more about interactive tables.';\n",
              "          element.innerHTML = '';\n",
              "          dataTable['output_type'] = 'display_data';\n",
              "          await google.colab.output.renderOutput(dataTable, element);\n",
              "          const docLink = document.createElement('div');\n",
              "          docLink.innerHTML = docLinkHtml;\n",
              "          element.appendChild(docLink);\n",
              "        }\n",
              "      </script>\n",
              "    </div>\n",
              "  </div>\n",
              "  "
            ],
            "text/plain": [
              "        count  sum      mean\n",
              "Gender                      \n",
              "Female    112   75  0.669643\n",
              "Male      489  339  0.693252"
            ]
          },
          "execution_count": 84,
          "metadata": {},
          "output_type": "execute_result"
        }
      ],
      "source": [
        "\n",
        "train.groupby(['Gender'])['Loan_Status'].agg(['count', 'sum', 'mean'])"
      ]
    },
    {
      "cell_type": "code",
      "execution_count": 80,
      "metadata": {
        "colab": {
          "base_uri": "https://localhost:8080/",
          "height": 297
        },
        "id": "MwE0AaBlLoNW",
        "outputId": "8b5879d4-0206-48f7-e3a5-86fffd935864"
      },
      "outputs": [
        {
          "data": {
            "image/png": "[encoded data removed]",
            "text/plain": [
              "<Figure size 432x288 with 1 Axes>"
            ]
          },
          "metadata": {},
          "output_type": "display_data"
        }
      ],
      "source": [
        "##### Plot the home loan status(Yes and No wise) by gender ####\n",
        "plt.title('the Pie chart of home loan status(Yes and No wise) by genderwise'.title())\n",
        "train.groupby(['Gender'])['Loan_Status'].value_counts().sort_values(ascending = False).plot(kind = 'pie', autopct='%.2f')\n",
        "plt.show()"
      ]
    },
    {
      "cell_type": "code",
      "execution_count": 85,
      "metadata": {
        "colab": {
          "base_uri": "https://localhost:8080/",
          "height": 209
        },
        "id": "hOXc0tY_LoQU",
        "outputId": "09d77eee-bda2-4044-a96a-3030707b23c2"
      },
      "outputs": [
        {
          "name": "stdout",
          "output_type": "stream",
          "text": [
            "The Ratio Of Taking Load By Gender And Maritial Status \n",
            "\n"
          ]
        },
        {
          "data": {
            "text/html": [
              "\n",
              "  <div id=\"df-bde3fc7f-533a-40ae-b31e-68a99b7412d2\">\n",
              "    <div class=\"colab-df-container\">\n",
              "      <div>\n",
              "<style scoped>\n",
              "    .dataframe tbody tr th:only-of-type {\n",
              "        vertical-align: middle;\n",
              "    }\n",
              "\n",
              "    .dataframe tbody tr th {\n",
              "        vertical-align: top;\n",
              "    }\n",
              "\n",
              "    .dataframe thead tr th {\n",
              "        text-align: left;\n",
              "    }\n",
              "\n",
              "    .dataframe thead tr:last-of-type th {\n",
              "        text-align: right;\n",
              "    }\n",
              "</style>\n",
              "<table border=\"1\" class=\"dataframe\">\n",
              "  <thead>\n",
              "    <tr>\n",
              "      <th></th>\n",
              "      <th colspan=\"2\" halign=\"left\">count</th>\n",
              "      <th colspan=\"2\" halign=\"left\">sum</th>\n",
              "      <th colspan=\"2\" halign=\"left\">mean</th>\n",
              "    </tr>\n",
              "    <tr>\n",
              "      <th>Married</th>\n",
              "      <th>No</th>\n",
              "      <th>Yes</th>\n",
              "      <th>No</th>\n",
              "      <th>Yes</th>\n",
              "      <th>No</th>\n",
              "      <th>Yes</th>\n",
              "    </tr>\n",
              "    <tr>\n",
              "      <th>Gender</th>\n",
              "      <th></th>\n",
              "      <th></th>\n",
              "      <th></th>\n",
              "      <th></th>\n",
              "      <th></th>\n",
              "      <th></th>\n",
              "    </tr>\n",
              "  </thead>\n",
              "  <tbody>\n",
              "    <tr>\n",
              "      <th>Female</th>\n",
              "      <td>80</td>\n",
              "      <td>31</td>\n",
              "      <td>51</td>\n",
              "      <td>23</td>\n",
              "      <td>0.637500</td>\n",
              "      <td>0.741935</td>\n",
              "    </tr>\n",
              "    <tr>\n",
              "      <th>Male</th>\n",
              "      <td>130</td>\n",
              "      <td>357</td>\n",
              "      <td>81</td>\n",
              "      <td>256</td>\n",
              "      <td>0.623077</td>\n",
              "      <td>0.717087</td>\n",
              "    </tr>\n",
              "  </tbody>\n",
              "</table>\n",
              "</div>\n",
              "      <button class=\"colab-df-convert\" onclick=\"convertToInteractive('df-bde3fc7f-533a-40ae-b31e-68a99b7412d2')\"\n",
              "              title=\"Convert this dataframe to an interactive table.\"\n",
              "              style=\"display:none;\">\n",
              "        \n",
              "  <svg xmlns=\"http://www.w3.org/2000/svg\" height=\"24px\"viewBox=\"0 0 24 24\"\n",
              "       width=\"24px\">\n",
              "    <path d=\"M0 0h24v24H0V0z\" fill=\"none\"/>\n",
              "    <path d=\"M18.56 5.44l.94 2.06.94-2.06 2.06-.94-2.06-.94-.94-2.06-.94 2.06-2.06.94zm-11 1L8.5 8.5l.94-2.06 2.06-.94-2.06-.94L8.5 2.5l-.94 2.06-2.06.94zm10 10l.94 2.06.94-2.06 2.06-.94-2.06-.94-.94-2.06-.94 2.06-2.06.94z\"/><path d=\"M17.41 7.96l-1.37-1.37c-.4-.4-.92-.59-1.43-.59-.52 0-1.04.2-1.43.59L10.3 9.45l-7.72 7.72c-.78.78-.78 2.05 0 2.83L4 21.41c.39.39.9.59 1.41.59.51 0 1.02-.2 1.41-.59l7.78-7.78 2.81-2.81c.8-.78.8-2.07 0-2.86zM5.41 20L4 18.59l7.72-7.72 1.47 1.35L5.41 20z\"/>\n",
              "  </svg>\n",
              "      </button>\n",
              "      \n",
              "  <style>\n",
              "    .colab-df-container {\n",
              "      display:flex;\n",
              "      flex-wrap:wrap;\n",
              "      gap: 12px;\n",
              "    }\n",
              "\n",
              "    .colab-df-convert {\n",
              "      background-color: #E8F0FE;\n",
              "      border: none;\n",
              "      border-radius: 50%;\n",
              "      cursor: pointer;\n",
              "      display: none;\n",
              "      fill: #1967D2;\n",
              "      height: 32px;\n",
              "      padding: 0 0 0 0;\n",
              "      width: 32px;\n",
              "    }\n",
              "\n",
              "    .colab-df-convert:hover {\n",
              "      background-color: #E2EBFA;\n",
              "      box-shadow: 0px 1px 2px rgba(60, 64, 67, 0.3), 0px 1px 3px 1px rgba(60, 64, 67, 0.15);\n",
              "      fill: #174EA6;\n",
              "    }\n",
              "\n",
              "    [theme=dark] .colab-df-convert {\n",
              "      background-color: #3B4455;\n",
              "      fill: #D2E3FC;\n",
              "    }\n",
              "\n",
              "    [theme=dark] .colab-df-convert:hover {\n",
              "      background-color: #434B5C;\n",
              "      box-shadow: 0px 1px 3px 1px rgba(0, 0, 0, 0.15);\n",
              "      filter: drop-shadow(0px 1px 2px rgba(0, 0, 0, 0.3));\n",
              "      fill: #FFFFFF;\n",
              "    }\n",
              "  </style>\n",
              "\n",
              "      <script>\n",
              "        const buttonEl =\n",
              "          document.querySelector('#df-bde3fc7f-533a-40ae-b31e-68a99b7412d2 button.colab-df-convert');\n",
              "        buttonEl.style.display =\n",
              "          google.colab.kernel.accessAllowed ? 'block' : 'none';\n",
              "\n",
              "        async function convertToInteractive(key) {\n",
              "          const element = document.querySelector('#df-bde3fc7f-533a-40ae-b31e-68a99b7412d2');\n",
              "          const dataTable =\n",
              "            await google.colab.kernel.invokeFunction('convertToInteractive',\n",
              "                                                     [key], {});\n",
              "          if (!dataTable) return;\n",
              "\n",
              "          const docLinkHtml = 'Like what you see? Visit the ' +\n",
              "            '<a target=\"_blank\" href=https://colab.research.google.com/notebooks/data_table.ipynb>data table notebook</a>'\n",
              "            + ' to learn more about interactive tables.';\n",
              "          element.innerHTML = '';\n",
              "          dataTable['output_type'] = 'display_data';\n",
              "          await google.colab.output.renderOutput(dataTable, element);\n",
              "          const docLink = document.createElement('div');\n",
              "          docLink.innerHTML = docLinkHtml;\n",
              "          element.appendChild(docLink);\n",
              "        }\n",
              "      </script>\n",
              "    </div>\n",
              "  </div>\n",
              "  "
            ],
            "text/plain": [
              "        count      sum           mean          \n",
              "Married    No  Yes  No  Yes        No       Yes\n",
              "Gender                                         \n",
              "Female     80   31  51   23  0.637500  0.741935\n",
              "Male      130  357  81  256  0.623077  0.717087"
            ]
          },
          "execution_count": 85,
          "metadata": {},
          "output_type": "execute_result"
        }
      ],
      "source": [
        "##### Find out, whats the ratio of taking load by gender and Maritial Status #####\n",
        "print('the ratio of taking load by gender and Maritial Status'.title(),'\\n')\n",
        "train.pivot_table(index = 'Gender', columns = 'Married', values = 'Loan_Status', aggfunc = ['count', 'sum', 'mean'])\n",
        "\n"
      ]
    },
    {
      "cell_type": "code",
      "execution_count": 86,
      "metadata": {
        "colab": {
          "base_uri": "https://localhost:8080/",
          "height": 684
        },
        "id": "hn9pUKyvMnYt",
        "outputId": "83a877a2-5996-48fa-8a89-3a87d80a34fc"
      },
      "outputs": [
        {
          "data": {
            "image/png": "[encoded data removed]",
            "text/plain": [
              "<Figure size 4320x2880 with 6 Axes>"
            ]
          },
          "metadata": {},
          "output_type": "display_data"
        }
      ],
      "source": [
        "##### Plot it using pie #####\n",
        "axes = train.pivot_table(index = 'Gender', columns = 'Married', values = 'Loan_Status',\\\n",
        "                            aggfunc = ['count', 'sum', 'mean']).plot(kind = 'pie', subplots = True,\\\n",
        "                            figsize = [60, 40], autopct='%.2f')\n",
        "for ax in axes:\n",
        "  ax.set_aspect('equal')\n",
        "  ax.yaxis.set_label_coords(-0.15, 0.5)\n",
        "\n",
        "plt.subplots_adjust(wspace = 0.5)\n",
        "plt.show()"
      ]
    },
    {
      "cell_type": "code",
      "execution_count": 88,
      "metadata": {
        "colab": {
          "base_uri": "https://localhost:8080/",
          "height": 287
        },
        "id": "oWCOVCg2M4Eo",
        "outputId": "1d43fe05-b98c-47d3-e91d-668992243138"
      },
      "outputs": [
        {
          "data": {
            "text/html": [
              "\n",
              "  <div id=\"df-297aaef1-59ba-4f04-adb3-b93b388ed34d\">\n",
              "    <div class=\"colab-df-container\">\n",
              "      <div>\n",
              "<style scoped>\n",
              "    .dataframe tbody tr th:only-of-type {\n",
              "        vertical-align: middle;\n",
              "    }\n",
              "\n",
              "    .dataframe tbody tr th {\n",
              "        vertical-align: top;\n",
              "    }\n",
              "\n",
              "    .dataframe thead th {\n",
              "        text-align: right;\n",
              "    }\n",
              "</style>\n",
              "<table border=\"1\" class=\"dataframe\">\n",
              "  <thead>\n",
              "    <tr style=\"text-align: right;\">\n",
              "      <th></th>\n",
              "      <th>Loan_ID</th>\n",
              "      <th>Gender</th>\n",
              "      <th>Married</th>\n",
              "      <th>Dependents</th>\n",
              "      <th>Education</th>\n",
              "      <th>Self_Employed</th>\n",
              "      <th>ApplicantIncome</th>\n",
              "      <th>CoapplicantIncome</th>\n",
              "      <th>LoanAmount</th>\n",
              "      <th>Loan_Amount_Term</th>\n",
              "      <th>Credit_History</th>\n",
              "      <th>Property_Area</th>\n",
              "      <th>Loan_Status</th>\n",
              "      <th>Dependents_</th>\n",
              "    </tr>\n",
              "  </thead>\n",
              "  <tbody>\n",
              "    <tr>\n",
              "      <th>0</th>\n",
              "      <td>LP001002</td>\n",
              "      <td>Male</td>\n",
              "      <td>No</td>\n",
              "      <td>0</td>\n",
              "      <td>Graduate</td>\n",
              "      <td>No</td>\n",
              "      <td>5849</td>\n",
              "      <td>0.0</td>\n",
              "      <td>NaN</td>\n",
              "      <td>360.0</td>\n",
              "      <td>1.0</td>\n",
              "      <td>Urban</td>\n",
              "      <td>1</td>\n",
              "      <td>No</td>\n",
              "    </tr>\n",
              "    <tr>\n",
              "      <th>1</th>\n",
              "      <td>LP001003</td>\n",
              "      <td>Male</td>\n",
              "      <td>Yes</td>\n",
              "      <td>1</td>\n",
              "      <td>Graduate</td>\n",
              "      <td>No</td>\n",
              "      <td>4583</td>\n",
              "      <td>1508.0</td>\n",
              "      <td>128.0</td>\n",
              "      <td>360.0</td>\n",
              "      <td>1.0</td>\n",
              "      <td>Rural</td>\n",
              "      <td>0</td>\n",
              "      <td>One</td>\n",
              "    </tr>\n",
              "    <tr>\n",
              "      <th>2</th>\n",
              "      <td>LP001005</td>\n",
              "      <td>Male</td>\n",
              "      <td>Yes</td>\n",
              "      <td>0</td>\n",
              "      <td>Graduate</td>\n",
              "      <td>Yes</td>\n",
              "      <td>3000</td>\n",
              "      <td>0.0</td>\n",
              "      <td>66.0</td>\n",
              "      <td>360.0</td>\n",
              "      <td>1.0</td>\n",
              "      <td>Urban</td>\n",
              "      <td>1</td>\n",
              "      <td>No</td>\n",
              "    </tr>\n",
              "    <tr>\n",
              "      <th>3</th>\n",
              "      <td>LP001006</td>\n",
              "      <td>Male</td>\n",
              "      <td>Yes</td>\n",
              "      <td>0</td>\n",
              "      <td>Not Graduate</td>\n",
              "      <td>No</td>\n",
              "      <td>2583</td>\n",
              "      <td>2358.0</td>\n",
              "      <td>120.0</td>\n",
              "      <td>360.0</td>\n",
              "      <td>1.0</td>\n",
              "      <td>Urban</td>\n",
              "      <td>1</td>\n",
              "      <td>No</td>\n",
              "    </tr>\n",
              "    <tr>\n",
              "      <th>4</th>\n",
              "      <td>LP001008</td>\n",
              "      <td>Male</td>\n",
              "      <td>No</td>\n",
              "      <td>0</td>\n",
              "      <td>Graduate</td>\n",
              "      <td>No</td>\n",
              "      <td>6000</td>\n",
              "      <td>0.0</td>\n",
              "      <td>141.0</td>\n",
              "      <td>360.0</td>\n",
              "      <td>1.0</td>\n",
              "      <td>Urban</td>\n",
              "      <td>1</td>\n",
              "      <td>No</td>\n",
              "    </tr>\n",
              "  </tbody>\n",
              "</table>\n",
              "</div>\n",
              "      <button class=\"colab-df-convert\" onclick=\"convertToInteractive('df-297aaef1-59ba-4f04-adb3-b93b388ed34d')\"\n",
              "              title=\"Convert this dataframe to an interactive table.\"\n",
              "              style=\"display:none;\">\n",
              "        \n",
              "  <svg xmlns=\"http://www.w3.org/2000/svg\" height=\"24px\"viewBox=\"0 0 24 24\"\n",
              "       width=\"24px\">\n",
              "    <path d=\"M0 0h24v24H0V0z\" fill=\"none\"/>\n",
              "    <path d=\"M18.56 5.44l.94 2.06.94-2.06 2.06-.94-2.06-.94-.94-2.06-.94 2.06-2.06.94zm-11 1L8.5 8.5l.94-2.06 2.06-.94-2.06-.94L8.5 2.5l-.94 2.06-2.06.94zm10 10l.94 2.06.94-2.06 2.06-.94-2.06-.94-.94-2.06-.94 2.06-2.06.94z\"/><path d=\"M17.41 7.96l-1.37-1.37c-.4-.4-.92-.59-1.43-.59-.52 0-1.04.2-1.43.59L10.3 9.45l-7.72 7.72c-.78.78-.78 2.05 0 2.83L4 21.41c.39.39.9.59 1.41.59.51 0 1.02-.2 1.41-.59l7.78-7.78 2.81-2.81c.8-.78.8-2.07 0-2.86zM5.41 20L4 18.59l7.72-7.72 1.47 1.35L5.41 20z\"/>\n",
              "  </svg>\n",
              "      </button>\n",
              "      \n",
              "  <style>\n",
              "    .colab-df-container {\n",
              "      display:flex;\n",
              "      flex-wrap:wrap;\n",
              "      gap: 12px;\n",
              "    }\n",
              "\n",
              "    .colab-df-convert {\n",
              "      background-color: #E8F0FE;\n",
              "      border: none;\n",
              "      border-radius: 50%;\n",
              "      cursor: pointer;\n",
              "      display: none;\n",
              "      fill: #1967D2;\n",
              "      height: 32px;\n",
              "      padding: 0 0 0 0;\n",
              "      width: 32px;\n",
              "    }\n",
              "\n",
              "    .colab-df-convert:hover {\n",
              "      background-color: #E2EBFA;\n",
              "      box-shadow: 0px 1px 2px rgba(60, 64, 67, 0.3), 0px 1px 3px 1px rgba(60, 64, 67, 0.15);\n",
              "      fill: #174EA6;\n",
              "    }\n",
              "\n",
              "    [theme=dark] .colab-df-convert {\n",
              "      background-color: #3B4455;\n",
              "      fill: #D2E3FC;\n",
              "    }\n",
              "\n",
              "    [theme=dark] .colab-df-convert:hover {\n",
              "      background-color: #434B5C;\n",
              "      box-shadow: 0px 1px 3px 1px rgba(0, 0, 0, 0.15);\n",
              "      filter: drop-shadow(0px 1px 2px rgba(0, 0, 0, 0.3));\n",
              "      fill: #FFFFFF;\n",
              "    }\n",
              "  </style>\n",
              "\n",
              "      <script>\n",
              "        const buttonEl =\n",
              "          document.querySelector('#df-297aaef1-59ba-4f04-adb3-b93b388ed34d button.colab-df-convert');\n",
              "        buttonEl.style.display =\n",
              "          google.colab.kernel.accessAllowed ? 'block' : 'none';\n",
              "\n",
              "        async function convertToInteractive(key) {\n",
              "          const element = document.querySelector('#df-297aaef1-59ba-4f04-adb3-b93b388ed34d');\n",
              "          const dataTable =\n",
              "            await google.colab.kernel.invokeFunction('convertToInteractive',\n",
              "                                                     [key], {});\n",
              "          if (!dataTable) return;\n",
              "\n",
              "          const docLinkHtml = 'Like what you see? Visit the ' +\n",
              "            '<a target=\"_blank\" href=https://colab.research.google.com/notebooks/data_table.ipynb>data table notebook</a>'\n",
              "            + ' to learn more about interactive tables.';\n",
              "          element.innerHTML = '';\n",
              "          dataTable['output_type'] = 'display_data';\n",
              "          await google.colab.output.renderOutput(dataTable, element);\n",
              "          const docLink = document.createElement('div');\n",
              "          docLink.innerHTML = docLinkHtml;\n",
              "          element.appendChild(docLink);\n",
              "        }\n",
              "      </script>\n",
              "    </div>\n",
              "  </div>\n",
              "  "
            ],
            "text/plain": [
              "    Loan_ID Gender Married Dependents     Education Self_Employed  \\\n",
              "0  LP001002   Male      No          0      Graduate            No   \n",
              "1  LP001003   Male     Yes          1      Graduate            No   \n",
              "2  LP001005   Male     Yes          0      Graduate           Yes   \n",
              "3  LP001006   Male     Yes          0  Not Graduate            No   \n",
              "4  LP001008   Male      No          0      Graduate            No   \n",
              "\n",
              "   ApplicantIncome  CoapplicantIncome  LoanAmount  Loan_Amount_Term  \\\n",
              "0             5849                0.0         NaN             360.0   \n",
              "1             4583             1508.0       128.0             360.0   \n",
              "2             3000                0.0        66.0             360.0   \n",
              "3             2583             2358.0       120.0             360.0   \n",
              "4             6000                0.0       141.0             360.0   \n",
              "\n",
              "   Credit_History Property_Area  Loan_Status Dependents_  \n",
              "0             1.0         Urban            1          No  \n",
              "1             1.0         Rural            0         One  \n",
              "2             1.0         Urban            1          No  \n",
              "3             1.0         Urban            1          No  \n",
              "4             1.0         Urban            1          No  "
            ]
          },
          "execution_count": 88,
          "metadata": {},
          "output_type": "execute_result"
        }
      ],
      "source": [
        "train['Dependents_'] = train.loc[:, 'Dependents'].map({'0': 'No', '1': 'One', '2': 'Two', '3+': 'Three_and_more'})\n",
        "\n",
        "train.head()"
      ]
    },
    {
      "cell_type": "code",
      "execution_count": 89,
      "metadata": {
        "colab": {
          "base_uri": "https://localhost:8080/",
          "height": 297
        },
        "id": "oN7TPvnFM4YT",
        "outputId": "09bec607-8e55-4a0e-ac3e-a008c10c0ee2"
      },
      "outputs": [
        {
          "data": {
            "image/png": "[encoded data removed]",
            "text/plain": [
              "<Figure size 432x288 with 1 Axes>"
            ]
          },
          "metadata": {},
          "output_type": "display_data"
        }
      ],
      "source": [
        "##### 'The number of count taking loan based on Dependens #####\n",
        "plt.title('The number of count taking loan based on Dependens.'.title())\n",
        "train.groupby(['Dependents_'])['Loan_Status'].count().sort_values(ascending = False).plot(kind = 'barh')\n",
        "plt.show()"
      ]
    },
    {
      "cell_type": "code",
      "execution_count": 90,
      "metadata": {
        "colab": {
          "base_uri": "https://localhost:8080/",
          "height": 206
        },
        "id": "ZVJBhQ29M4bP",
        "outputId": "85c03b76-d6e2-4566-f368-4be105619aa9"
      },
      "outputs": [
        {
          "data": {
            "text/html": [
              "\n",
              "  <div id=\"df-772ecc11-27b7-4899-97fd-8b20b72470d9\">\n",
              "    <div class=\"colab-df-container\">\n",
              "      <div>\n",
              "<style scoped>\n",
              "    .dataframe tbody tr th:only-of-type {\n",
              "        vertical-align: middle;\n",
              "    }\n",
              "\n",
              "    .dataframe tbody tr th {\n",
              "        vertical-align: top;\n",
              "    }\n",
              "\n",
              "    .dataframe thead th {\n",
              "        text-align: right;\n",
              "    }\n",
              "</style>\n",
              "<table border=\"1\" class=\"dataframe\">\n",
              "  <thead>\n",
              "    <tr style=\"text-align: right;\">\n",
              "      <th></th>\n",
              "      <th>Loan_Status</th>\n",
              "    </tr>\n",
              "    <tr>\n",
              "      <th>Dependents_</th>\n",
              "      <th></th>\n",
              "    </tr>\n",
              "  </thead>\n",
              "  <tbody>\n",
              "    <tr>\n",
              "      <th>No</th>\n",
              "      <td>345</td>\n",
              "    </tr>\n",
              "    <tr>\n",
              "      <th>One</th>\n",
              "      <td>102</td>\n",
              "    </tr>\n",
              "    <tr>\n",
              "      <th>Three_and_more</th>\n",
              "      <td>51</td>\n",
              "    </tr>\n",
              "    <tr>\n",
              "      <th>Two</th>\n",
              "      <td>101</td>\n",
              "    </tr>\n",
              "  </tbody>\n",
              "</table>\n",
              "</div>\n",
              "      <button class=\"colab-df-convert\" onclick=\"convertToInteractive('df-772ecc11-27b7-4899-97fd-8b20b72470d9')\"\n",
              "              title=\"Convert this dataframe to an interactive table.\"\n",
              "              style=\"display:none;\">\n",
              "        \n",
              "  <svg xmlns=\"http://www.w3.org/2000/svg\" height=\"24px\"viewBox=\"0 0 24 24\"\n",
              "       width=\"24px\">\n",
              "    <path d=\"M0 0h24v24H0V0z\" fill=\"none\"/>\n",
              "    <path d=\"M18.56 5.44l.94 2.06.94-2.06 2.06-.94-2.06-.94-.94-2.06-.94 2.06-2.06.94zm-11 1L8.5 8.5l.94-2.06 2.06-.94-2.06-.94L8.5 2.5l-.94 2.06-2.06.94zm10 10l.94 2.06.94-2.06 2.06-.94-2.06-.94-.94-2.06-.94 2.06-2.06.94z\"/><path d=\"M17.41 7.96l-1.37-1.37c-.4-.4-.92-.59-1.43-.59-.52 0-1.04.2-1.43.59L10.3 9.45l-7.72 7.72c-.78.78-.78 2.05 0 2.83L4 21.41c.39.39.9.59 1.41.59.51 0 1.02-.2 1.41-.59l7.78-7.78 2.81-2.81c.8-.78.8-2.07 0-2.86zM5.41 20L4 18.59l7.72-7.72 1.47 1.35L5.41 20z\"/>\n",
              "  </svg>\n",
              "      </button>\n",
              "      \n",
              "  <style>\n",
              "    .colab-df-container {\n",
              "      display:flex;\n",
              "      flex-wrap:wrap;\n",
              "      gap: 12px;\n",
              "    }\n",
              "\n",
              "    .colab-df-convert {\n",
              "      background-color: #E8F0FE;\n",
              "      border: none;\n",
              "      border-radius: 50%;\n",
              "      cursor: pointer;\n",
              "      display: none;\n",
              "      fill: #1967D2;\n",
              "      height: 32px;\n",
              "      padding: 0 0 0 0;\n",
              "      width: 32px;\n",
              "    }\n",
              "\n",
              "    .colab-df-convert:hover {\n",
              "      background-color: #E2EBFA;\n",
              "      box-shadow: 0px 1px 2px rgba(60, 64, 67, 0.3), 0px 1px 3px 1px rgba(60, 64, 67, 0.15);\n",
              "      fill: #174EA6;\n",
              "    }\n",
              "\n",
              "    [theme=dark] .colab-df-convert {\n",
              "      background-color: #3B4455;\n",
              "      fill: #D2E3FC;\n",
              "    }\n",
              "\n",
              "    [theme=dark] .colab-df-convert:hover {\n",
              "      background-color: #434B5C;\n",
              "      box-shadow: 0px 1px 3px 1px rgba(0, 0, 0, 0.15);\n",
              "      filter: drop-shadow(0px 1px 2px rgba(0, 0, 0, 0.3));\n",
              "      fill: #FFFFFF;\n",
              "    }\n",
              "  </style>\n",
              "\n",
              "      <script>\n",
              "        const buttonEl =\n",
              "          document.querySelector('#df-772ecc11-27b7-4899-97fd-8b20b72470d9 button.colab-df-convert');\n",
              "        buttonEl.style.display =\n",
              "          google.colab.kernel.accessAllowed ? 'block' : 'none';\n",
              "\n",
              "        async function convertToInteractive(key) {\n",
              "          const element = document.querySelector('#df-772ecc11-27b7-4899-97fd-8b20b72470d9');\n",
              "          const dataTable =\n",
              "            await google.colab.kernel.invokeFunction('convertToInteractive',\n",
              "                                                     [key], {});\n",
              "          if (!dataTable) return;\n",
              "\n",
              "          const docLinkHtml = 'Like what you see? Visit the ' +\n",
              "            '<a target=\"_blank\" href=https://colab.research.google.com/notebooks/data_table.ipynb>data table notebook</a>'\n",
              "            + ' to learn more about interactive tables.';\n",
              "          element.innerHTML = '';\n",
              "          dataTable['output_type'] = 'display_data';\n",
              "          await google.colab.output.renderOutput(dataTable, element);\n",
              "          const docLink = document.createElement('div');\n",
              "          docLink.innerHTML = docLinkHtml;\n",
              "          element.appendChild(docLink);\n",
              "        }\n",
              "      </script>\n",
              "    </div>\n",
              "  </div>\n",
              "  "
            ],
            "text/plain": [
              "                Loan_Status\n",
              "Dependents_                \n",
              "No                      345\n",
              "One                     102\n",
              "Three_and_more           51\n",
              "Two                     101"
            ]
          },
          "execution_count": 90,
          "metadata": {},
          "output_type": "execute_result"
        }
      ],
      "source": [
        "##### The number of count taking loan based on Dependens #####\n",
        "train.groupby(['Dependents_'])[['Loan_Status']].count()"
      ]
    },
    {
      "cell_type": "code",
      "execution_count": 91,
      "metadata": {
        "colab": {
          "base_uri": "https://localhost:8080/",
          "height": 298
        },
        "id": "VaxCt_doNTE9",
        "outputId": "138a1dfc-4b9e-497b-bb63-d4f79140fab3"
      },
      "outputs": [
        {
          "data": {
            "image/png": "[encoded data removed]",
            "text/plain": [
              "<Figure size 432x288 with 1 Axes>"
            ]
          },
          "metadata": {},
          "output_type": "display_data"
        }
      ],
      "source": [
        "##### The ratio of taking loan by Education-wise #####\n",
        "train.groupby(['Education'])[['Loan_Status']].agg(['count', 'sum', 'mean']).plot(kind = 'bar')\n",
        "plt.show()"
      ]
    },
    {
      "cell_type": "code",
      "execution_count": 92,
      "metadata": {
        "colab": {
          "base_uri": "https://localhost:8080/",
          "height": 1000
        },
        "id": "dXo9c9bWNTHO",
        "outputId": "6ce21fa4-cf85-45ed-d75c-ff7fac99a1da"
      },
      "outputs": [
        {
          "name": "stdout",
          "output_type": "stream",
          "text": [
            "The Relationship Of Applicantincome With Education\n"
          ]
        },
        {
          "data": {
            "image/png": "[encoded data removed]",
            "text/plain": [
              "<Figure size 360x360 with 1 Axes>"
            ]
          },
          "metadata": {},
          "output_type": "display_data"
        },
        {
          "name": "stdout",
          "output_type": "stream",
          "text": [
            "************************************************************************************************************************ \n",
            "\n",
            "The Relationship Of Applicantincome, Education With Self Employed\n"
          ]
        },
        {
          "data": {
            "image/png": "[encoded data removed]",
            "text/plain": [
              "<Figure size 720x360 with 2 Axes>"
            ]
          },
          "metadata": {},
          "output_type": "display_data"
        },
        {
          "name": "stdout",
          "output_type": "stream",
          "text": [
            "************************************************************************************************************************ \n",
            "\n",
            "The Relationship Of Applicantincome, Education With Self Employed\n"
          ]
        },
        {
          "data": {
            "image/png": "[encoded data removed]",
            "text/plain": [
              "<Figure size 789.375x360 with 2 Axes>"
            ]
          },
          "metadata": {},
          "output_type": "display_data"
        }
      ],
      "source": [
        "##### Plot the relationship of ApplicantIncome with Education #####\n",
        "print('the relationship of ApplicantIncome with Education'.title())\n",
        "sns.catplot(x = 'Education', y = 'ApplicantIncome', data = train)\n",
        "plt.show()\n",
        "\n",
        "print('*'*120,'\\n')\n",
        "\n",
        "##### Plot the relationship of ApplicantIncome, Education with Self Employed #####\n",
        "print('the relationship of ApplicantIncome, Education with Self Employed'.title())\n",
        "sns.catplot(x = 'Education', y = 'ApplicantIncome', col = 'Self_Employed', data = train)\n",
        "plt.show()\n",
        "\n",
        "print('*'*120,'\\n')\n",
        "\n",
        "##### Plot the relationship of ApplicantIncome, Education with Self Employed, Gender #####\n",
        "print('the relationship of ApplicantIncome, Education with Self Employed'.title())\n",
        "sns.catplot(x = 'Education', y = 'ApplicantIncome', col = 'Self_Employed', hue = 'Gender', data = train)\n",
        "plt.show()"
      ]
    },
    {
      "cell_type": "code",
      "execution_count": 93,
      "metadata": {
        "colab": {
          "base_uri": "https://localhost:8080/",
          "height": 300
        },
        "id": "aocnyhmcNTJ0",
        "outputId": "0c629122-3b80-4d65-b9eb-c0147a53a301"
      },
      "outputs": [
        {
          "data": {
            "text/html": [
              "\n",
              "  <div id=\"df-fc0da2f3-bb61-4944-89fe-0b6c2a795906\">\n",
              "    <div class=\"colab-df-container\">\n",
              "      <div>\n",
              "<style scoped>\n",
              "    .dataframe tbody tr th:only-of-type {\n",
              "        vertical-align: middle;\n",
              "    }\n",
              "\n",
              "    .dataframe tbody tr th {\n",
              "        vertical-align: top;\n",
              "    }\n",
              "\n",
              "    .dataframe thead th {\n",
              "        text-align: right;\n",
              "    }\n",
              "</style>\n",
              "<table border=\"1\" class=\"dataframe\">\n",
              "  <thead>\n",
              "    <tr style=\"text-align: right;\">\n",
              "      <th></th>\n",
              "      <th>ApplicantIncome</th>\n",
              "      <th>CoapplicantIncome</th>\n",
              "      <th>LoanAmount</th>\n",
              "      <th>Loan_Amount_Term</th>\n",
              "      <th>Credit_History</th>\n",
              "      <th>Loan_Status</th>\n",
              "    </tr>\n",
              "  </thead>\n",
              "  <tbody>\n",
              "    <tr>\n",
              "      <th>count</th>\n",
              "      <td>614.000000</td>\n",
              "      <td>614.000000</td>\n",
              "      <td>592.000000</td>\n",
              "      <td>600.00000</td>\n",
              "      <td>564.000000</td>\n",
              "      <td>614.000000</td>\n",
              "    </tr>\n",
              "    <tr>\n",
              "      <th>mean</th>\n",
              "      <td>5403.459283</td>\n",
              "      <td>1621.245798</td>\n",
              "      <td>146.412162</td>\n",
              "      <td>342.00000</td>\n",
              "      <td>0.842199</td>\n",
              "      <td>0.687296</td>\n",
              "    </tr>\n",
              "    <tr>\n",
              "      <th>std</th>\n",
              "      <td>6109.041673</td>\n",
              "      <td>2926.248369</td>\n",
              "      <td>85.587325</td>\n",
              "      <td>65.12041</td>\n",
              "      <td>0.364878</td>\n",
              "      <td>0.463973</td>\n",
              "    </tr>\n",
              "    <tr>\n",
              "      <th>min</th>\n",
              "      <td>150.000000</td>\n",
              "      <td>0.000000</td>\n",
              "      <td>9.000000</td>\n",
              "      <td>12.00000</td>\n",
              "      <td>0.000000</td>\n",
              "      <td>0.000000</td>\n",
              "    </tr>\n",
              "    <tr>\n",
              "      <th>25%</th>\n",
              "      <td>2877.500000</td>\n",
              "      <td>0.000000</td>\n",
              "      <td>100.000000</td>\n",
              "      <td>360.00000</td>\n",
              "      <td>1.000000</td>\n",
              "      <td>0.000000</td>\n",
              "    </tr>\n",
              "    <tr>\n",
              "      <th>50%</th>\n",
              "      <td>3812.500000</td>\n",
              "      <td>1188.500000</td>\n",
              "      <td>128.000000</td>\n",
              "      <td>360.00000</td>\n",
              "      <td>1.000000</td>\n",
              "      <td>1.000000</td>\n",
              "    </tr>\n",
              "    <tr>\n",
              "      <th>75%</th>\n",
              "      <td>5795.000000</td>\n",
              "      <td>2297.250000</td>\n",
              "      <td>168.000000</td>\n",
              "      <td>360.00000</td>\n",
              "      <td>1.000000</td>\n",
              "      <td>1.000000</td>\n",
              "    </tr>\n",
              "    <tr>\n",
              "      <th>max</th>\n",
              "      <td>81000.000000</td>\n",
              "      <td>41667.000000</td>\n",
              "      <td>700.000000</td>\n",
              "      <td>480.00000</td>\n",
              "      <td>1.000000</td>\n",
              "      <td>1.000000</td>\n",
              "    </tr>\n",
              "  </tbody>\n",
              "</table>\n",
              "</div>\n",
              "      <button class=\"colab-df-convert\" onclick=\"convertToInteractive('df-fc0da2f3-bb61-4944-89fe-0b6c2a795906')\"\n",
              "              title=\"Convert this dataframe to an interactive table.\"\n",
              "              style=\"display:none;\">\n",
              "        \n",
              "  <svg xmlns=\"http://www.w3.org/2000/svg\" height=\"24px\"viewBox=\"0 0 24 24\"\n",
              "       width=\"24px\">\n",
              "    <path d=\"M0 0h24v24H0V0z\" fill=\"none\"/>\n",
              "    <path d=\"M18.56 5.44l.94 2.06.94-2.06 2.06-.94-2.06-.94-.94-2.06-.94 2.06-2.06.94zm-11 1L8.5 8.5l.94-2.06 2.06-.94-2.06-.94L8.5 2.5l-.94 2.06-2.06.94zm10 10l.94 2.06.94-2.06 2.06-.94-2.06-.94-.94-2.06-.94 2.06-2.06.94z\"/><path d=\"M17.41 7.96l-1.37-1.37c-.4-.4-.92-.59-1.43-.59-.52 0-1.04.2-1.43.59L10.3 9.45l-7.72 7.72c-.78.78-.78 2.05 0 2.83L4 21.41c.39.39.9.59 1.41.59.51 0 1.02-.2 1.41-.59l7.78-7.78 2.81-2.81c.8-.78.8-2.07 0-2.86zM5.41 20L4 18.59l7.72-7.72 1.47 1.35L5.41 20z\"/>\n",
              "  </svg>\n",
              "      </button>\n",
              "      \n",
              "  <style>\n",
              "    .colab-df-container {\n",
              "      display:flex;\n",
              "      flex-wrap:wrap;\n",
              "      gap: 12px;\n",
              "    }\n",
              "\n",
              "    .colab-df-convert {\n",
              "      background-color: #E8F0FE;\n",
              "      border: none;\n",
              "      border-radius: 50%;\n",
              "      cursor: pointer;\n",
              "      display: none;\n",
              "      fill: #1967D2;\n",
              "      height: 32px;\n",
              "      padding: 0 0 0 0;\n",
              "      width: 32px;\n",
              "    }\n",
              "\n",
              "    .colab-df-convert:hover {\n",
              "      background-color: #E2EBFA;\n",
              "      box-shadow: 0px 1px 2px rgba(60, 64, 67, 0.3), 0px 1px 3px 1px rgba(60, 64, 67, 0.15);\n",
              "      fill: #174EA6;\n",
              "    }\n",
              "\n",
              "    [theme=dark] .colab-df-convert {\n",
              "      background-color: #3B4455;\n",
              "      fill: #D2E3FC;\n",
              "    }\n",
              "\n",
              "    [theme=dark] .colab-df-convert:hover {\n",
              "      background-color: #434B5C;\n",
              "      box-shadow: 0px 1px 3px 1px rgba(0, 0, 0, 0.15);\n",
              "      filter: drop-shadow(0px 1px 2px rgba(0, 0, 0, 0.3));\n",
              "      fill: #FFFFFF;\n",
              "    }\n",
              "  </style>\n",
              "\n",
              "      <script>\n",
              "        const buttonEl =\n",
              "          document.querySelector('#df-fc0da2f3-bb61-4944-89fe-0b6c2a795906 button.colab-df-convert');\n",
              "        buttonEl.style.display =\n",
              "          google.colab.kernel.accessAllowed ? 'block' : 'none';\n",
              "\n",
              "        async function convertToInteractive(key) {\n",
              "          const element = document.querySelector('#df-fc0da2f3-bb61-4944-89fe-0b6c2a795906');\n",
              "          const dataTable =\n",
              "            await google.colab.kernel.invokeFunction('convertToInteractive',\n",
              "                                                     [key], {});\n",
              "          if (!dataTable) return;\n",
              "\n",
              "          const docLinkHtml = 'Like what you see? Visit the ' +\n",
              "            '<a target=\"_blank\" href=https://colab.research.google.com/notebooks/data_table.ipynb>data table notebook</a>'\n",
              "            + ' to learn more about interactive tables.';\n",
              "          element.innerHTML = '';\n",
              "          dataTable['output_type'] = 'display_data';\n",
              "          await google.colab.output.renderOutput(dataTable, element);\n",
              "          const docLink = document.createElement('div');\n",
              "          docLink.innerHTML = docLinkHtml;\n",
              "          element.appendChild(docLink);\n",
              "        }\n",
              "      </script>\n",
              "    </div>\n",
              "  </div>\n",
              "  "
            ],
            "text/plain": [
              "       ApplicantIncome  CoapplicantIncome  LoanAmount  Loan_Amount_Term  \\\n",
              "count       614.000000         614.000000  592.000000         600.00000   \n",
              "mean       5403.459283        1621.245798  146.412162         342.00000   \n",
              "std        6109.041673        2926.248369   85.587325          65.12041   \n",
              "min         150.000000           0.000000    9.000000          12.00000   \n",
              "25%        2877.500000           0.000000  100.000000         360.00000   \n",
              "50%        3812.500000        1188.500000  128.000000         360.00000   \n",
              "75%        5795.000000        2297.250000  168.000000         360.00000   \n",
              "max       81000.000000       41667.000000  700.000000         480.00000   \n",
              "\n",
              "       Credit_History  Loan_Status  \n",
              "count      564.000000   614.000000  \n",
              "mean         0.842199     0.687296  \n",
              "std          0.364878     0.463973  \n",
              "min          0.000000     0.000000  \n",
              "25%          1.000000     0.000000  \n",
              "50%          1.000000     1.000000  \n",
              "75%          1.000000     1.000000  \n",
              "max          1.000000     1.000000  "
            ]
          },
          "execution_count": 93,
          "metadata": {},
          "output_type": "execute_result"
        }
      ],
      "source": [
        "##### Describe of this dataset #####\n",
        "train.describe()"
      ]
    },
    {
      "cell_type": "code",
      "execution_count": 94,
      "metadata": {
        "colab": {
          "base_uri": "https://localhost:8080/",
          "height": 237
        },
        "id": "ynDjcp8BNTMs",
        "outputId": "fcedaeee-3e18-418e-922a-0bfd08f61871"
      },
      "outputs": [
        {
          "data": {
            "text/html": [
              "\n",
              "  <div id=\"df-578639f2-0294-4a0f-a2c6-3f586e0c8fd0\">\n",
              "    <div class=\"colab-df-container\">\n",
              "      <div>\n",
              "<style scoped>\n",
              "    .dataframe tbody tr th:only-of-type {\n",
              "        vertical-align: middle;\n",
              "    }\n",
              "\n",
              "    .dataframe tbody tr th {\n",
              "        vertical-align: top;\n",
              "    }\n",
              "\n",
              "    .dataframe thead th {\n",
              "        text-align: right;\n",
              "    }\n",
              "</style>\n",
              "<table border=\"1\" class=\"dataframe\">\n",
              "  <thead>\n",
              "    <tr style=\"text-align: right;\">\n",
              "      <th></th>\n",
              "      <th>ApplicantIncome</th>\n",
              "      <th>CoapplicantIncome</th>\n",
              "      <th>LoanAmount</th>\n",
              "      <th>Loan_Amount_Term</th>\n",
              "      <th>Credit_History</th>\n",
              "      <th>Loan_Status</th>\n",
              "    </tr>\n",
              "  </thead>\n",
              "  <tbody>\n",
              "    <tr>\n",
              "      <th>ApplicantIncome</th>\n",
              "      <td>1.000000</td>\n",
              "      <td>-0.116605</td>\n",
              "      <td>0.570909</td>\n",
              "      <td>-0.045306</td>\n",
              "      <td>-0.014715</td>\n",
              "      <td>-0.004710</td>\n",
              "    </tr>\n",
              "    <tr>\n",
              "      <th>CoapplicantIncome</th>\n",
              "      <td>-0.116605</td>\n",
              "      <td>1.000000</td>\n",
              "      <td>0.188619</td>\n",
              "      <td>-0.059878</td>\n",
              "      <td>-0.002056</td>\n",
              "      <td>-0.059187</td>\n",
              "    </tr>\n",
              "    <tr>\n",
              "      <th>LoanAmount</th>\n",
              "      <td>0.570909</td>\n",
              "      <td>0.188619</td>\n",
              "      <td>1.000000</td>\n",
              "      <td>0.039447</td>\n",
              "      <td>-0.008433</td>\n",
              "      <td>-0.037318</td>\n",
              "    </tr>\n",
              "    <tr>\n",
              "      <th>Loan_Amount_Term</th>\n",
              "      <td>-0.045306</td>\n",
              "      <td>-0.059878</td>\n",
              "      <td>0.039447</td>\n",
              "      <td>1.000000</td>\n",
              "      <td>0.001470</td>\n",
              "      <td>-0.021268</td>\n",
              "    </tr>\n",
              "    <tr>\n",
              "      <th>Credit_History</th>\n",
              "      <td>-0.014715</td>\n",
              "      <td>-0.002056</td>\n",
              "      <td>-0.008433</td>\n",
              "      <td>0.001470</td>\n",
              "      <td>1.000000</td>\n",
              "      <td>0.561678</td>\n",
              "    </tr>\n",
              "    <tr>\n",
              "      <th>Loan_Status</th>\n",
              "      <td>-0.004710</td>\n",
              "      <td>-0.059187</td>\n",
              "      <td>-0.037318</td>\n",
              "      <td>-0.021268</td>\n",
              "      <td>0.561678</td>\n",
              "      <td>1.000000</td>\n",
              "    </tr>\n",
              "  </tbody>\n",
              "</table>\n",
              "</div>\n",
              "      <button class=\"colab-df-convert\" onclick=\"convertToInteractive('df-578639f2-0294-4a0f-a2c6-3f586e0c8fd0')\"\n",
              "              title=\"Convert this dataframe to an interactive table.\"\n",
              "              style=\"display:none;\">\n",
              "        \n",
              "  <svg xmlns=\"http://www.w3.org/2000/svg\" height=\"24px\"viewBox=\"0 0 24 24\"\n",
              "       width=\"24px\">\n",
              "    <path d=\"M0 0h24v24H0V0z\" fill=\"none\"/>\n",
              "    <path d=\"M18.56 5.44l.94 2.06.94-2.06 2.06-.94-2.06-.94-.94-2.06-.94 2.06-2.06.94zm-11 1L8.5 8.5l.94-2.06 2.06-.94-2.06-.94L8.5 2.5l-.94 2.06-2.06.94zm10 10l.94 2.06.94-2.06 2.06-.94-2.06-.94-.94-2.06-.94 2.06-2.06.94z\"/><path d=\"M17.41 7.96l-1.37-1.37c-.4-.4-.92-.59-1.43-.59-.52 0-1.04.2-1.43.59L10.3 9.45l-7.72 7.72c-.78.78-.78 2.05 0 2.83L4 21.41c.39.39.9.59 1.41.59.51 0 1.02-.2 1.41-.59l7.78-7.78 2.81-2.81c.8-.78.8-2.07 0-2.86zM5.41 20L4 18.59l7.72-7.72 1.47 1.35L5.41 20z\"/>\n",
              "  </svg>\n",
              "      </button>\n",
              "      \n",
              "  <style>\n",
              "    .colab-df-container {\n",
              "      display:flex;\n",
              "      flex-wrap:wrap;\n",
              "      gap: 12px;\n",
              "    }\n",
              "\n",
              "    .colab-df-convert {\n",
              "      background-color: #E8F0FE;\n",
              "      border: none;\n",
              "      border-radius: 50%;\n",
              "      cursor: pointer;\n",
              "      display: none;\n",
              "      fill: #1967D2;\n",
              "      height: 32px;\n",
              "      padding: 0 0 0 0;\n",
              "      width: 32px;\n",
              "    }\n",
              "\n",
              "    .colab-df-convert:hover {\n",
              "      background-color: #E2EBFA;\n",
              "      box-shadow: 0px 1px 2px rgba(60, 64, 67, 0.3), 0px 1px 3px 1px rgba(60, 64, 67, 0.15);\n",
              "      fill: #174EA6;\n",
              "    }\n",
              "\n",
              "    [theme=dark] .colab-df-convert {\n",
              "      background-color: #3B4455;\n",
              "      fill: #D2E3FC;\n",
              "    }\n",
              "\n",
              "    [theme=dark] .colab-df-convert:hover {\n",
              "      background-color: #434B5C;\n",
              "      box-shadow: 0px 1px 3px 1px rgba(0, 0, 0, 0.15);\n",
              "      filter: drop-shadow(0px 1px 2px rgba(0, 0, 0, 0.3));\n",
              "      fill: #FFFFFF;\n",
              "    }\n",
              "  </style>\n",
              "\n",
              "      <script>\n",
              "        const buttonEl =\n",
              "          document.querySelector('#df-578639f2-0294-4a0f-a2c6-3f586e0c8fd0 button.colab-df-convert');\n",
              "        buttonEl.style.display =\n",
              "          google.colab.kernel.accessAllowed ? 'block' : 'none';\n",
              "\n",
              "        async function convertToInteractive(key) {\n",
              "          const element = document.querySelector('#df-578639f2-0294-4a0f-a2c6-3f586e0c8fd0');\n",
              "          const dataTable =\n",
              "            await google.colab.kernel.invokeFunction('convertToInteractive',\n",
              "                                                     [key], {});\n",
              "          if (!dataTable) return;\n",
              "\n",
              "          const docLinkHtml = 'Like what you see? Visit the ' +\n",
              "            '<a target=\"_blank\" href=https://colab.research.google.com/notebooks/data_table.ipynb>data table notebook</a>'\n",
              "            + ' to learn more about interactive tables.';\n",
              "          element.innerHTML = '';\n",
              "          dataTable['output_type'] = 'display_data';\n",
              "          await google.colab.output.renderOutput(dataTable, element);\n",
              "          const docLink = document.createElement('div');\n",
              "          docLink.innerHTML = docLinkHtml;\n",
              "          element.appendChild(docLink);\n",
              "        }\n",
              "      </script>\n",
              "    </div>\n",
              "  </div>\n",
              "  "
            ],
            "text/plain": [
              "                   ApplicantIncome  CoapplicantIncome  LoanAmount  \\\n",
              "ApplicantIncome           1.000000          -0.116605    0.570909   \n",
              "CoapplicantIncome        -0.116605           1.000000    0.188619   \n",
              "LoanAmount                0.570909           0.188619    1.000000   \n",
              "Loan_Amount_Term         -0.045306          -0.059878    0.039447   \n",
              "Credit_History           -0.014715          -0.002056   -0.008433   \n",
              "Loan_Status              -0.004710          -0.059187   -0.037318   \n",
              "\n",
              "                   Loan_Amount_Term  Credit_History  Loan_Status  \n",
              "ApplicantIncome           -0.045306       -0.014715    -0.004710  \n",
              "CoapplicantIncome         -0.059878       -0.002056    -0.059187  \n",
              "LoanAmount                 0.039447       -0.008433    -0.037318  \n",
              "Loan_Amount_Term           1.000000        0.001470    -0.021268  \n",
              "Credit_History             0.001470        1.000000     0.561678  \n",
              "Loan_Status               -0.021268        0.561678     1.000000  "
            ]
          },
          "execution_count": 94,
          "metadata": {},
          "output_type": "execute_result"
        }
      ],
      "source": [
        "##### Find the correlation of this dataset #####\n",
        "train.corr()"
      ]
    },
    {
      "cell_type": "code",
      "execution_count": 95,
      "metadata": {
        "colab": {
          "base_uri": "https://localhost:8080/",
          "height": 729
        },
        "id": "2q5NWuYrOZsX",
        "outputId": "9fff232b-6536-482e-983d-267af8b97294"
      },
      "outputs": [
        {
          "data": {
            "image/png": "[encoded data removed]",
            "text/plain": [
              "<Figure size 864x720 with 2 Axes>"
            ]
          },
          "metadata": {},
          "output_type": "display_data"
        }
      ],
      "source": [
        "##### plot this corr() in a heatmap #####\n",
        "plt.figure(figsize = (12, 10))\n",
        "sns.heatmap(train.corr(), annot = True)\n",
        "plt.show()"
      ]
    },
    {
      "cell_type": "code",
      "execution_count": null,
      "metadata": {
        "id": "FafSnMV7OZvT"
      },
      "outputs": [],
      "source": []
    },
    {
      "cell_type": "code",
      "execution_count": null,
      "metadata": {
        "id": "QHRYxDEPOZx6"
      },
      "outputs": [],
      "source": []
    },
    {
      "cell_type": "code",
      "execution_count": null,
      "metadata": {
        "id": "dSX_EoDJM4eN"
      },
      "outputs": [],
      "source": []
    },
    {
      "cell_type": "code",
      "execution_count": 18,
      "metadata": {
        "colab": {
          "base_uri": "https://localhost:8080/"
        },
        "id": "QFoqvOkZ8W5T",
        "outputId": "09fa0417-617d-4257-ada5-a455612c350d"
      },
      "outputs": [
        {
          "data": {
            "text/plain": [
              "Gender\n",
              "Female     86\n",
              "Male      394\n",
              "Name: Loan_Status, dtype: int64"
            ]
          },
          "execution_count": 18,
          "metadata": {},
          "output_type": "execute_result"
        }
      ],
      "source": [
        "gender_counts"
      ]
    },
    {
      "cell_type": "code",
      "execution_count": 18,
      "metadata": {
        "id": "CpEp20b39O23"
      },
      "outputs": [],
      "source": []
    },
    {
      "cell_type": "code",
      "execution_count": 17,
      "metadata": {
        "colab": {
          "base_uri": "https://localhost:8080/"
        },
        "id": "QEgRw-k-9Shr",
        "outputId": "b944c4d6-7b66-49bf-d9f4-c0fd0224cb03"
      },
      "outputs": [
        {
          "data": {
            "text/plain": [
              "Index(['Loan_ID', 'Gender', 'Married', 'Dependents', 'Education',\n",
              "       'Self_Employed', 'ApplicantIncome', 'CoapplicantIncome', 'LoanAmount',\n",
              "       'Loan_Amount_Term', 'Credit_History', 'Property_Area'],\n",
              "      dtype='object')"
            ]
          },
          "execution_count": 17,
          "metadata": {},
          "output_type": "execute_result"
        }
      ],
      "source": [
        "df.columns"
      ]
    },
    {
      "cell_type": "code",
      "execution_count": 20,
      "metadata": {
        "colab": {
          "base_uri": "https://localhost:8080/",
          "height": 279
        },
        "id": "KO5RuPkn9W9A",
        "outputId": "152c5a4f-8812-4577-a65b-41b765351f09"
      },
      "outputs": [
        {
          "data": {
            "image/png": "[encoded data removed]",
            "text/plain": [
              "<Figure size 432x288 with 1 Axes>"
            ]
          },
          "metadata": {
            "needs_background": "light"
          },
          "output_type": "display_data"
        }
      ],
      "source": [
        "plt.scatter(train['ApplicantIncome'], train['LoanAmount'])\n",
        "plt.xlabel('Applicant Income')\n",
        "plt.ylabel('Loan Amount')\n",
        "plt.show()"
      ]
    },
    {
      "cell_type": "code",
      "execution_count": 20,
      "metadata": {
        "id": "kOXHh55g-gKa"
      },
      "outputs": [],
      "source": []
    },
    {
      "cell_type": "code",
      "execution_count": 21,
      "metadata": {
        "colab": {
          "base_uri": "https://localhost:8080/"
        },
        "id": "Bp2p89dDAiEV",
        "outputId": "467ea7d8-1155-493d-cb5f-cc190bd1c4fb"
      },
      "outputs": [
        {
          "data": {
            "text/plain": [
              "0      Y\n",
              "1      N\n",
              "2      Y\n",
              "3      Y\n",
              "4      Y\n",
              "      ..\n",
              "609    Y\n",
              "610    Y\n",
              "611    Y\n",
              "612    Y\n",
              "613    N\n",
              "Name: Loan_Status, Length: 614, dtype: object"
            ]
          },
          "execution_count": 21,
          "metadata": {},
          "output_type": "execute_result"
        }
      ],
      "source": [
        "dftrain['Loan_Status']"
      ]
    },
    {
      "cell_type": "code",
      "execution_count": 22,
      "metadata": {
        "id": "hopAUb96Atxu"
      },
      "outputs": [],
      "source": [
        "\n",
        "\n",
        "# convert types\n",
        "train['ApplicantIncome'] = (train['ApplicantIncome']).astype('float64')\n",
        "\n"
      ]
    },
    {
      "cell_type": "code",
      "execution_count": 23,
      "metadata": {
        "colab": {
          "base_uri": "https://localhost:8080/"
        },
        "id": "BuSk7PgT7wlR",
        "outputId": "2420e034-42b2-4641-bc47-74feb0da765d"
      },
      "outputs": [
        {
          "data": {
            "text/plain": [
              "Loan_ID               object\n",
              "Gender                object\n",
              "Married               object\n",
              "Dependents            object\n",
              "Education             object\n",
              "Self_Employed         object\n",
              "ApplicantIncome      float64\n",
              "CoapplicantIncome    float64\n",
              "LoanAmount           float64\n",
              "Loan_Amount_Term     float64\n",
              "Credit_History       float64\n",
              "Property_Area         object\n",
              "Loan_Status           object\n",
              "dtype: object"
            ]
          },
          "execution_count": 23,
          "metadata": {},
          "output_type": "execute_result"
        }
      ],
      "source": [
        "train.dtypes"
      ]
    },
    {
      "cell_type": "code",
      "execution_count": 26,
      "metadata": {
        "id": "ZJcQfDrs8ssq"
      },
      "outputs": [],
      "source": [
        "# encode categorical features into binary\n",
        "labels_to_encode = ['Gender', 'Married', 'Dependents', 'Education', 'Self_Employed', 'Property_Area', 'Loan_Status']\n",
        "\n",
        "le = LabelEncoder()\n",
        "\n",
        "for label in labels_to_encode:\n",
        "    train[label] = le.fit_transform(train[label])"
      ]
    },
    {
      "cell_type": "code",
      "execution_count": 27,
      "metadata": {
        "id": "gutMmbDD8xUf"
      },
      "outputs": [],
      "source": [
        "\n",
        "\n",
        "# drop Loan_ID column\n",
        "train.drop(labels='Loan_ID', inplace=True, axis=1)\n",
        "\n"
      ]
    },
    {
      "cell_type": "code",
      "execution_count": 28,
      "metadata": {
        "colab": {
          "base_uri": "https://localhost:8080/",
          "height": 427
        },
        "id": "F28MDz9j9KeJ",
        "outputId": "12a4c788-fde4-468c-889d-ece3434788c4"
      },
      "outputs": [
        {
          "data": {
            "text/html": [
              "\n",
              "  <div id=\"df-009f13e9-f23b-42b7-8caa-bc93e5407d09\">\n",
              "    <div class=\"colab-df-container\">\n",
              "      <div>\n",
              "<style scoped>\n",
              "    .dataframe tbody tr th:only-of-type {\n",
              "        vertical-align: middle;\n",
              "    }\n",
              "\n",
              "    .dataframe tbody tr th {\n",
              "        vertical-align: top;\n",
              "    }\n",
              "\n",
              "    .dataframe thead th {\n",
              "        text-align: right;\n",
              "    }\n",
              "</style>\n",
              "<table border=\"1\" class=\"dataframe\">\n",
              "  <thead>\n",
              "    <tr style=\"text-align: right;\">\n",
              "      <th></th>\n",
              "      <th>Gender</th>\n",
              "      <th>Married</th>\n",
              "      <th>Dependents</th>\n",
              "      <th>Education</th>\n",
              "      <th>Self_Employed</th>\n",
              "      <th>ApplicantIncome</th>\n",
              "      <th>CoapplicantIncome</th>\n",
              "      <th>LoanAmount</th>\n",
              "      <th>Loan_Amount_Term</th>\n",
              "      <th>Credit_History</th>\n",
              "      <th>Property_Area</th>\n",
              "      <th>Loan_Status</th>\n",
              "    </tr>\n",
              "  </thead>\n",
              "  <tbody>\n",
              "    <tr>\n",
              "      <th>1</th>\n",
              "      <td>1</td>\n",
              "      <td>1</td>\n",
              "      <td>1</td>\n",
              "      <td>0</td>\n",
              "      <td>0</td>\n",
              "      <td>4583.0</td>\n",
              "      <td>1508.0</td>\n",
              "      <td>128.0</td>\n",
              "      <td>360.0</td>\n",
              "      <td>1.0</td>\n",
              "      <td>0</td>\n",
              "      <td>0</td>\n",
              "    </tr>\n",
              "    <tr>\n",
              "      <th>2</th>\n",
              "      <td>1</td>\n",
              "      <td>1</td>\n",
              "      <td>0</td>\n",
              "      <td>0</td>\n",
              "      <td>1</td>\n",
              "      <td>3000.0</td>\n",
              "      <td>0.0</td>\n",
              "      <td>66.0</td>\n",
              "      <td>360.0</td>\n",
              "      <td>1.0</td>\n",
              "      <td>2</td>\n",
              "      <td>1</td>\n",
              "    </tr>\n",
              "    <tr>\n",
              "      <th>3</th>\n",
              "      <td>1</td>\n",
              "      <td>1</td>\n",
              "      <td>0</td>\n",
              "      <td>1</td>\n",
              "      <td>0</td>\n",
              "      <td>2583.0</td>\n",
              "      <td>2358.0</td>\n",
              "      <td>120.0</td>\n",
              "      <td>360.0</td>\n",
              "      <td>1.0</td>\n",
              "      <td>2</td>\n",
              "      <td>1</td>\n",
              "    </tr>\n",
              "    <tr>\n",
              "      <th>4</th>\n",
              "      <td>1</td>\n",
              "      <td>0</td>\n",
              "      <td>0</td>\n",
              "      <td>0</td>\n",
              "      <td>0</td>\n",
              "      <td>6000.0</td>\n",
              "      <td>0.0</td>\n",
              "      <td>141.0</td>\n",
              "      <td>360.0</td>\n",
              "      <td>1.0</td>\n",
              "      <td>2</td>\n",
              "      <td>1</td>\n",
              "    </tr>\n",
              "    <tr>\n",
              "      <th>5</th>\n",
              "      <td>1</td>\n",
              "      <td>1</td>\n",
              "      <td>2</td>\n",
              "      <td>0</td>\n",
              "      <td>1</td>\n",
              "      <td>5417.0</td>\n",
              "      <td>4196.0</td>\n",
              "      <td>267.0</td>\n",
              "      <td>360.0</td>\n",
              "      <td>1.0</td>\n",
              "      <td>2</td>\n",
              "      <td>1</td>\n",
              "    </tr>\n",
              "    <tr>\n",
              "      <th>6</th>\n",
              "      <td>1</td>\n",
              "      <td>1</td>\n",
              "      <td>0</td>\n",
              "      <td>1</td>\n",
              "      <td>0</td>\n",
              "      <td>2333.0</td>\n",
              "      <td>1516.0</td>\n",
              "      <td>95.0</td>\n",
              "      <td>360.0</td>\n",
              "      <td>1.0</td>\n",
              "      <td>2</td>\n",
              "      <td>1</td>\n",
              "    </tr>\n",
              "    <tr>\n",
              "      <th>7</th>\n",
              "      <td>1</td>\n",
              "      <td>1</td>\n",
              "      <td>3</td>\n",
              "      <td>0</td>\n",
              "      <td>0</td>\n",
              "      <td>3036.0</td>\n",
              "      <td>2504.0</td>\n",
              "      <td>158.0</td>\n",
              "      <td>360.0</td>\n",
              "      <td>0.0</td>\n",
              "      <td>1</td>\n",
              "      <td>0</td>\n",
              "    </tr>\n",
              "    <tr>\n",
              "      <th>8</th>\n",
              "      <td>1</td>\n",
              "      <td>1</td>\n",
              "      <td>2</td>\n",
              "      <td>0</td>\n",
              "      <td>0</td>\n",
              "      <td>4006.0</td>\n",
              "      <td>1526.0</td>\n",
              "      <td>168.0</td>\n",
              "      <td>360.0</td>\n",
              "      <td>1.0</td>\n",
              "      <td>2</td>\n",
              "      <td>1</td>\n",
              "    </tr>\n",
              "    <tr>\n",
              "      <th>9</th>\n",
              "      <td>1</td>\n",
              "      <td>1</td>\n",
              "      <td>1</td>\n",
              "      <td>0</td>\n",
              "      <td>0</td>\n",
              "      <td>12841.0</td>\n",
              "      <td>10968.0</td>\n",
              "      <td>349.0</td>\n",
              "      <td>360.0</td>\n",
              "      <td>1.0</td>\n",
              "      <td>1</td>\n",
              "      <td>0</td>\n",
              "    </tr>\n",
              "    <tr>\n",
              "      <th>10</th>\n",
              "      <td>1</td>\n",
              "      <td>1</td>\n",
              "      <td>2</td>\n",
              "      <td>0</td>\n",
              "      <td>0</td>\n",
              "      <td>3200.0</td>\n",
              "      <td>700.0</td>\n",
              "      <td>70.0</td>\n",
              "      <td>360.0</td>\n",
              "      <td>1.0</td>\n",
              "      <td>2</td>\n",
              "      <td>1</td>\n",
              "    </tr>\n",
              "  </tbody>\n",
              "</table>\n",
              "</div>\n",
              "      <button class=\"colab-df-convert\" onclick=\"convertToInteractive('df-009f13e9-f23b-42b7-8caa-bc93e5407d09')\"\n",
              "              title=\"Convert this dataframe to an interactive table.\"\n",
              "              style=\"display:none;\">\n",
              "        \n",
              "  <svg xmlns=\"http://www.w3.org/2000/svg\" height=\"24px\"viewBox=\"0 0 24 24\"\n",
              "       width=\"24px\">\n",
              "    <path d=\"M0 0h24v24H0V0z\" fill=\"none\"/>\n",
              "    <path d=\"M18.56 5.44l.94 2.06.94-2.06 2.06-.94-2.06-.94-.94-2.06-.94 2.06-2.06.94zm-11 1L8.5 8.5l.94-2.06 2.06-.94-2.06-.94L8.5 2.5l-.94 2.06-2.06.94zm10 10l.94 2.06.94-2.06 2.06-.94-2.06-.94-.94-2.06-.94 2.06-2.06.94z\"/><path d=\"M17.41 7.96l-1.37-1.37c-.4-.4-.92-.59-1.43-.59-.52 0-1.04.2-1.43.59L10.3 9.45l-7.72 7.72c-.78.78-.78 2.05 0 2.83L4 21.41c.39.39.9.59 1.41.59.51 0 1.02-.2 1.41-.59l7.78-7.78 2.81-2.81c.8-.78.8-2.07 0-2.86zM5.41 20L4 18.59l7.72-7.72 1.47 1.35L5.41 20z\"/>\n",
              "  </svg>\n",
              "      </button>\n",
              "      \n",
              "  <style>\n",
              "    .colab-df-container {\n",
              "      display:flex;\n",
              "      flex-wrap:wrap;\n",
              "      gap: 12px;\n",
              "    }\n",
              "\n",
              "    .colab-df-convert {\n",
              "      background-color: #E8F0FE;\n",
              "      border: none;\n",
              "      border-radius: 50%;\n",
              "      cursor: pointer;\n",
              "      display: none;\n",
              "      fill: #1967D2;\n",
              "      height: 32px;\n",
              "      padding: 0 0 0 0;\n",
              "      width: 32px;\n",
              "    }\n",
              "\n",
              "    .colab-df-convert:hover {\n",
              "      background-color: #E2EBFA;\n",
              "      box-shadow: 0px 1px 2px rgba(60, 64, 67, 0.3), 0px 1px 3px 1px rgba(60, 64, 67, 0.15);\n",
              "      fill: #174EA6;\n",
              "    }\n",
              "\n",
              "    [theme=dark] .colab-df-convert {\n",
              "      background-color: #3B4455;\n",
              "      fill: #D2E3FC;\n",
              "    }\n",
              "\n",
              "    [theme=dark] .colab-df-convert:hover {\n",
              "      background-color: #434B5C;\n",
              "      box-shadow: 0px 1px 3px 1px rgba(0, 0, 0, 0.15);\n",
              "      filter: drop-shadow(0px 1px 2px rgba(0, 0, 0, 0.3));\n",
              "      fill: #FFFFFF;\n",
              "    }\n",
              "  </style>\n",
              "\n",
              "      <script>\n",
              "        const buttonEl =\n",
              "          document.querySelector('#df-009f13e9-f23b-42b7-8caa-bc93e5407d09 button.colab-df-convert');\n",
              "        buttonEl.style.display =\n",
              "          google.colab.kernel.accessAllowed ? 'block' : 'none';\n",
              "\n",
              "        async function convertToInteractive(key) {\n",
              "          const element = document.querySelector('#df-009f13e9-f23b-42b7-8caa-bc93e5407d09');\n",
              "          const dataTable =\n",
              "            await google.colab.kernel.invokeFunction('convertToInteractive',\n",
              "                                                     [key], {});\n",
              "          if (!dataTable) return;\n",
              "\n",
              "          const docLinkHtml = 'Like what you see? Visit the ' +\n",
              "            '<a target=\"_blank\" href=https://colab.research.google.com/notebooks/data_table.ipynb>data table notebook</a>'\n",
              "            + ' to learn more about interactive tables.';\n",
              "          element.innerHTML = '';\n",
              "          dataTable['output_type'] = 'display_data';\n",
              "          await google.colab.output.renderOutput(dataTable, element);\n",
              "          const docLink = document.createElement('div');\n",
              "          docLink.innerHTML = docLinkHtml;\n",
              "          element.appendChild(docLink);\n",
              "        }\n",
              "      </script>\n",
              "    </div>\n",
              "  </div>\n",
              "  "
            ],
            "text/plain": [
              "    Gender  Married  Dependents  Education  Self_Employed  ApplicantIncome  \\\n",
              "1        1        1           1          0              0           4583.0   \n",
              "2        1        1           0          0              1           3000.0   \n",
              "3        1        1           0          1              0           2583.0   \n",
              "4        1        0           0          0              0           6000.0   \n",
              "5        1        1           2          0              1           5417.0   \n",
              "6        1        1           0          1              0           2333.0   \n",
              "7        1        1           3          0              0           3036.0   \n",
              "8        1        1           2          0              0           4006.0   \n",
              "9        1        1           1          0              0          12841.0   \n",
              "10       1        1           2          0              0           3200.0   \n",
              "\n",
              "    CoapplicantIncome  LoanAmount  Loan_Amount_Term  Credit_History  \\\n",
              "1              1508.0       128.0             360.0             1.0   \n",
              "2                 0.0        66.0             360.0             1.0   \n",
              "3              2358.0       120.0             360.0             1.0   \n",
              "4                 0.0       141.0             360.0             1.0   \n",
              "5              4196.0       267.0             360.0             1.0   \n",
              "6              1516.0        95.0             360.0             1.0   \n",
              "7              2504.0       158.0             360.0             0.0   \n",
              "8              1526.0       168.0             360.0             1.0   \n",
              "9             10968.0       349.0             360.0             1.0   \n",
              "10              700.0        70.0             360.0             1.0   \n",
              "\n",
              "    Property_Area  Loan_Status  \n",
              "1               0            0  \n",
              "2               2            1  \n",
              "3               2            1  \n",
              "4               2            1  \n",
              "5               2            1  \n",
              "6               2            1  \n",
              "7               1            0  \n",
              "8               2            1  \n",
              "9               1            0  \n",
              "10              2            1  "
            ]
          },
          "execution_count": 28,
          "metadata": {},
          "output_type": "execute_result"
        }
      ],
      "source": [
        "\n",
        "\n",
        "train.head(10)\n",
        "\n"
      ]
    },
    {
      "cell_type": "code",
      "execution_count": 29,
      "metadata": {
        "id": "l3cFzVJv9PQA"
      },
      "outputs": [],
      "source": [
        "# normalize data\n",
        "cols_to_scale = train[['ApplicantIncome', 'CoapplicantIncome', 'LoanAmount', 'Loan_Amount_Term']]\n",
        "\n",
        "scaler = StandardScaler()\n",
        "\n",
        "cols_to_scale = scaler.fit_transform(cols_to_scale)"
      ]
    },
    {
      "cell_type": "code",
      "execution_count": 30,
      "metadata": {
        "id": "bgyC_Yen9SOJ"
      },
      "outputs": [],
      "source": [
        "\n",
        "\n",
        "# convert cols_to_scale to a dataframe to merge back in\n",
        "cols_to_scale = pd.DataFrame(cols_to_scale)\n",
        "\n"
      ]
    },
    {
      "cell_type": "code",
      "execution_count": 31,
      "metadata": {
        "id": "hDIsNNtP9V0I"
      },
      "outputs": [],
      "source": [
        "# provide the feature names for cols_to_scale\n",
        "cols_to_scale.columns = ['ApplicantIncome', 'CoapplicantIncome', 'LoanAmount', 'Loan_Amount_Term']"
      ]
    },
    {
      "cell_type": "code",
      "execution_count": 32,
      "metadata": {
        "id": "ZKFUwUd-9arb"
      },
      "outputs": [],
      "source": [
        "# drop unscaled columns\n",
        "train.drop(labels=['ApplicantIncome', 'CoapplicantIncome', 'LoanAmount', 'Loan_Amount_Term'], axis=1, inplace=True)\n"
      ]
    },
    {
      "cell_type": "code",
      "execution_count": 33,
      "metadata": {
        "id": "6ma2Ej2F9d5s"
      },
      "outputs": [],
      "source": [
        "\n",
        "\n",
        "# merge cols_to_scale back into train\n",
        "train = pd.concat([train, cols_to_scale], axis=1)\n",
        "\n"
      ]
    },
    {
      "cell_type": "code",
      "execution_count": 54,
      "metadata": {
        "id": "8AL-bsXl9s3m"
      },
      "outputs": [],
      "source": []
    },
    {
      "cell_type": "code",
      "execution_count": 53,
      "metadata": {
        "id": "o8O0U_voDo5Y"
      },
      "outputs": [],
      "source": [
        "from sklearn.model_selection import train_test_split\n",
        "\n",
        "X = train.drop(columns='Loan_Status')\n",
        "y = train['Loan_Status']\n",
        "\n",
        "X_train, X_val, y_train, y_val = train_test_split(X, \n",
        "                                                  y, \n",
        "                                                  test_size=0.2, \n",
        "                                                  random_state=142)\n"
      ]
    },
    {
      "cell_type": "code",
      "execution_count": 54,
      "metadata": {
        "colab": {
          "base_uri": "https://localhost:8080/"
        },
        "id": "XPgbmpKZ_jSM",
        "outputId": "967273c1-5b91-441a-cf05-2eca1bf3c220"
      },
      "outputs": [
        {
          "name": "stdout",
          "output_type": "stream",
          "text": [
            "Epoch 1/100\n",
            "8/8 [==============================] - 2s 33ms/step - loss: nan - binary_crossentropy: nan - val_loss: nan - val_binary_crossentropy: nan\n",
            "Epoch 2/100\n",
            "8/8 [==============================] - 0s 6ms/step - loss: nan - binary_crossentropy: nan - val_loss: nan - val_binary_crossentropy: nan\n",
            "Epoch 3/100\n",
            "8/8 [==============================] - 0s 6ms/step - loss: nan - binary_crossentropy: nan - val_loss: nan - val_binary_crossentropy: nan\n",
            "Epoch 4/100\n",
            "8/8 [==============================] - 0s 5ms/step - loss: nan - binary_crossentropy: nan - val_loss: nan - val_binary_crossentropy: nan\n",
            "Epoch 5/100\n",
            "8/8 [==============================] - 0s 6ms/step - loss: nan - binary_crossentropy: nan - val_loss: nan - val_binary_crossentropy: nan\n",
            "Epoch 6/100\n",
            "8/8 [==============================] - 0s 6ms/step - loss: nan - binary_crossentropy: nan - val_loss: nan - val_binary_crossentropy: nan\n",
            "Epoch 7/100\n",
            "8/8 [==============================] - 0s 6ms/step - loss: nan - binary_crossentropy: nan - val_loss: nan - val_binary_crossentropy: nan\n",
            "Epoch 8/100\n",
            "8/8 [==============================] - 0s 6ms/step - loss: nan - binary_crossentropy: nan - val_loss: nan - val_binary_crossentropy: nan\n",
            "Epoch 9/100\n",
            "8/8 [==============================] - 0s 6ms/step - loss: nan - binary_crossentropy: nan - val_loss: nan - val_binary_crossentropy: nan\n",
            "Epoch 10/100\n",
            "8/8 [==============================] - 0s 6ms/step - loss: nan - binary_crossentropy: nan - val_loss: nan - val_binary_crossentropy: nan\n",
            "Epoch 11/100\n",
            "8/8 [==============================] - 0s 6ms/step - loss: nan - binary_crossentropy: nan - val_loss: nan - val_binary_crossentropy: nan\n",
            "Epoch 12/100\n",
            "8/8 [==============================] - 0s 6ms/step - loss: nan - binary_crossentropy: nan - val_loss: nan - val_binary_crossentropy: nan\n",
            "Epoch 13/100\n",
            "8/8 [==============================] - 0s 6ms/step - loss: nan - binary_crossentropy: nan - val_loss: nan - val_binary_crossentropy: nan\n",
            "Epoch 14/100\n",
            "8/8 [==============================] - 0s 8ms/step - loss: nan - binary_crossentropy: nan - val_loss: nan - val_binary_crossentropy: nan\n",
            "Epoch 15/100\n",
            "8/8 [==============================] - 0s 8ms/step - loss: nan - binary_crossentropy: nan - val_loss: nan - val_binary_crossentropy: nan\n",
            "Epoch 16/100\n",
            "8/8 [==============================] - 0s 8ms/step - loss: nan - binary_crossentropy: nan - val_loss: nan - val_binary_crossentropy: nan\n",
            "Epoch 17/100\n",
            "8/8 [==============================] - 0s 5ms/step - loss: nan - binary_crossentropy: nan - val_loss: nan - val_binary_crossentropy: nan\n",
            "Epoch 18/100\n",
            "8/8 [==============================] - 0s 6ms/step - loss: nan - binary_crossentropy: nan - val_loss: nan - val_binary_crossentropy: nan\n",
            "Epoch 19/100\n",
            "8/8 [==============================] - 0s 6ms/step - loss: nan - binary_crossentropy: nan - val_loss: nan - val_binary_crossentropy: nan\n",
            "Epoch 20/100\n",
            "8/8 [==============================] - 0s 5ms/step - loss: nan - binary_crossentropy: nan - val_loss: nan - val_binary_crossentropy: nan\n",
            "Epoch 21/100\n",
            "8/8 [==============================] - 0s 6ms/step - loss: nan - binary_crossentropy: nan - val_loss: nan - val_binary_crossentropy: nan\n",
            "Epoch 22/100\n",
            "8/8 [==============================] - 0s 5ms/step - loss: nan - binary_crossentropy: nan - val_loss: nan - val_binary_crossentropy: nan\n",
            "Epoch 23/100\n",
            "8/8 [==============================] - 0s 7ms/step - loss: nan - binary_crossentropy: nan - val_loss: nan - val_binary_crossentropy: nan\n",
            "Epoch 24/100\n",
            "8/8 [==============================] - 0s 6ms/step - loss: nan - binary_crossentropy: nan - val_loss: nan - val_binary_crossentropy: nan\n",
            "Epoch 25/100\n",
            "8/8 [==============================] - 0s 6ms/step - loss: nan - binary_crossentropy: nan - val_loss: nan - val_binary_crossentropy: nan\n",
            "Epoch 26/100\n",
            "8/8 [==============================] - 0s 7ms/step - loss: nan - binary_crossentropy: nan - val_loss: nan - val_binary_crossentropy: nan\n",
            "Epoch 27/100\n",
            "8/8 [==============================] - 0s 6ms/step - loss: nan - binary_crossentropy: nan - val_loss: nan - val_binary_crossentropy: nan\n",
            "Epoch 28/100\n",
            "8/8 [==============================] - 0s 6ms/step - loss: nan - binary_crossentropy: nan - val_loss: nan - val_binary_crossentropy: nan\n",
            "Epoch 29/100\n",
            "8/8 [==============================] - 0s 6ms/step - loss: nan - binary_crossentropy: nan - val_loss: nan - val_binary_crossentropy: nan\n",
            "Epoch 30/100\n",
            "8/8 [==============================] - 0s 5ms/step - loss: nan - binary_crossentropy: nan - val_loss: nan - val_binary_crossentropy: nan\n",
            "Epoch 31/100\n",
            "8/8 [==============================] - 0s 6ms/step - loss: nan - binary_crossentropy: nan - val_loss: nan - val_binary_crossentropy: nan\n",
            "Epoch 32/100\n",
            "8/8 [==============================] - 0s 5ms/step - loss: nan - binary_crossentropy: nan - val_loss: nan - val_binary_crossentropy: nan\n",
            "Epoch 33/100\n",
            "8/8 [==============================] - 0s 6ms/step - loss: nan - binary_crossentropy: nan - val_loss: nan - val_binary_crossentropy: nan\n",
            "Epoch 34/100\n",
            "8/8 [==============================] - 0s 6ms/step - loss: nan - binary_crossentropy: nan - val_loss: nan - val_binary_crossentropy: nan\n",
            "Epoch 35/100\n",
            "8/8 [==============================] - 0s 6ms/step - loss: nan - binary_crossentropy: nan - val_loss: nan - val_binary_crossentropy: nan\n",
            "Epoch 36/100\n",
            "8/8 [==============================] - 0s 5ms/step - loss: nan - binary_crossentropy: nan - val_loss: nan - val_binary_crossentropy: nan\n",
            "Epoch 37/100\n",
            "8/8 [==============================] - 0s 6ms/step - loss: nan - binary_crossentropy: nan - val_loss: nan - val_binary_crossentropy: nan\n",
            "Epoch 38/100\n",
            "8/8 [==============================] - 0s 5ms/step - loss: nan - binary_crossentropy: nan - val_loss: nan - val_binary_crossentropy: nan\n",
            "Epoch 39/100\n",
            "8/8 [==============================] - 0s 6ms/step - loss: nan - binary_crossentropy: nan - val_loss: nan - val_binary_crossentropy: nan\n",
            "Epoch 40/100\n",
            "8/8 [==============================] - 0s 6ms/step - loss: nan - binary_crossentropy: nan - val_loss: nan - val_binary_crossentropy: nan\n",
            "Epoch 41/100\n",
            "8/8 [==============================] - 0s 7ms/step - loss: nan - binary_crossentropy: nan - val_loss: nan - val_binary_crossentropy: nan\n",
            "Epoch 42/100\n",
            "8/8 [==============================] - 0s 5ms/step - loss: nan - binary_crossentropy: nan - val_loss: nan - val_binary_crossentropy: nan\n",
            "Epoch 43/100\n",
            "8/8 [==============================] - 0s 6ms/step - loss: nan - binary_crossentropy: nan - val_loss: nan - val_binary_crossentropy: nan\n",
            "Epoch 44/100\n",
            "8/8 [==============================] - 0s 6ms/step - loss: nan - binary_crossentropy: nan - val_loss: nan - val_binary_crossentropy: nan\n",
            "Epoch 45/100\n",
            "8/8 [==============================] - 0s 6ms/step - loss: nan - binary_crossentropy: nan - val_loss: nan - val_binary_crossentropy: nan\n",
            "Epoch 46/100\n",
            "8/8 [==============================] - 0s 6ms/step - loss: nan - binary_crossentropy: nan - val_loss: nan - val_binary_crossentropy: nan\n",
            "Epoch 47/100\n",
            "8/8 [==============================] - 0s 6ms/step - loss: nan - binary_crossentropy: nan - val_loss: nan - val_binary_crossentropy: nan\n",
            "Epoch 48/100\n",
            "8/8 [==============================] - 0s 6ms/step - loss: nan - binary_crossentropy: nan - val_loss: nan - val_binary_crossentropy: nan\n",
            "Epoch 49/100\n",
            "8/8 [==============================] - 0s 5ms/step - loss: nan - binary_crossentropy: nan - val_loss: nan - val_binary_crossentropy: nan\n",
            "Epoch 50/100\n",
            "8/8 [==============================] - 0s 7ms/step - loss: nan - binary_crossentropy: nan - val_loss: nan - val_binary_crossentropy: nan\n",
            "Epoch 51/100\n",
            "8/8 [==============================] - 0s 6ms/step - loss: nan - binary_crossentropy: nan - val_loss: nan - val_binary_crossentropy: nan\n",
            "Epoch 52/100\n",
            "8/8 [==============================] - 0s 6ms/step - loss: nan - binary_crossentropy: nan - val_loss: nan - val_binary_crossentropy: nan\n",
            "Epoch 53/100\n",
            "8/8 [==============================] - 0s 6ms/step - loss: nan - binary_crossentropy: nan - val_loss: nan - val_binary_crossentropy: nan\n",
            "Epoch 54/100\n",
            "8/8 [==============================] - 0s 6ms/step - loss: nan - binary_crossentropy: nan - val_loss: nan - val_binary_crossentropy: nan\n",
            "Epoch 55/100\n",
            "8/8 [==============================] - 0s 6ms/step - loss: nan - binary_crossentropy: nan - val_loss: nan - val_binary_crossentropy: nan\n",
            "Epoch 56/100\n",
            "8/8 [==============================] - 0s 6ms/step - loss: nan - binary_crossentropy: nan - val_loss: nan - val_binary_crossentropy: nan\n",
            "Epoch 57/100\n",
            "8/8 [==============================] - 0s 6ms/step - loss: nan - binary_crossentropy: nan - val_loss: nan - val_binary_crossentropy: nan\n",
            "Epoch 58/100\n",
            "8/8 [==============================] - 0s 8ms/step - loss: nan - binary_crossentropy: nan - val_loss: nan - val_binary_crossentropy: nan\n",
            "Epoch 59/100\n",
            "8/8 [==============================] - 0s 6ms/step - loss: nan - binary_crossentropy: nan - val_loss: nan - val_binary_crossentropy: nan\n",
            "Epoch 60/100\n",
            "8/8 [==============================] - 0s 7ms/step - loss: nan - binary_crossentropy: nan - val_loss: nan - val_binary_crossentropy: nan\n",
            "Epoch 61/100\n",
            "8/8 [==============================] - 0s 8ms/step - loss: nan - binary_crossentropy: nan - val_loss: nan - val_binary_crossentropy: nan\n",
            "Epoch 62/100\n",
            "8/8 [==============================] - 0s 6ms/step - loss: nan - binary_crossentropy: nan - val_loss: nan - val_binary_crossentropy: nan\n",
            "Epoch 63/100\n",
            "8/8 [==============================] - 0s 6ms/step - loss: nan - binary_crossentropy: nan - val_loss: nan - val_binary_crossentropy: nan\n",
            "Epoch 64/100\n",
            "8/8 [==============================] - 0s 6ms/step - loss: nan - binary_crossentropy: nan - val_loss: nan - val_binary_crossentropy: nan\n",
            "Epoch 65/100\n",
            "8/8 [==============================] - 0s 8ms/step - loss: nan - binary_crossentropy: nan - val_loss: nan - val_binary_crossentropy: nan\n",
            "Epoch 66/100\n",
            "8/8 [==============================] - 0s 8ms/step - loss: nan - binary_crossentropy: nan - val_loss: nan - val_binary_crossentropy: nan\n",
            "Epoch 67/100\n",
            "8/8 [==============================] - 0s 6ms/step - loss: nan - binary_crossentropy: nan - val_loss: nan - val_binary_crossentropy: nan\n",
            "Epoch 68/100\n",
            "8/8 [==============================] - 0s 6ms/step - loss: nan - binary_crossentropy: nan - val_loss: nan - val_binary_crossentropy: nan\n",
            "Epoch 69/100\n",
            "8/8 [==============================] - 0s 6ms/step - loss: nan - binary_crossentropy: nan - val_loss: nan - val_binary_crossentropy: nan\n",
            "Epoch 70/100\n",
            "8/8 [==============================] - 0s 8ms/step - loss: nan - binary_crossentropy: nan - val_loss: nan - val_binary_crossentropy: nan\n",
            "Epoch 71/100\n",
            "8/8 [==============================] - 0s 5ms/step - loss: nan - binary_crossentropy: nan - val_loss: nan - val_binary_crossentropy: nan\n",
            "Epoch 72/100\n",
            "8/8 [==============================] - 0s 6ms/step - loss: nan - binary_crossentropy: nan - val_loss: nan - val_binary_crossentropy: nan\n",
            "Epoch 73/100\n",
            "8/8 [==============================] - 0s 5ms/step - loss: nan - binary_crossentropy: nan - val_loss: nan - val_binary_crossentropy: nan\n",
            "Epoch 74/100\n",
            "8/8 [==============================] - 0s 6ms/step - loss: nan - binary_crossentropy: nan - val_loss: nan - val_binary_crossentropy: nan\n",
            "Epoch 75/100\n",
            "8/8 [==============================] - 0s 5ms/step - loss: nan - binary_crossentropy: nan - val_loss: nan - val_binary_crossentropy: nan\n",
            "Epoch 76/100\n",
            "8/8 [==============================] - 0s 7ms/step - loss: nan - binary_crossentropy: nan - val_loss: nan - val_binary_crossentropy: nan\n",
            "Epoch 77/100\n",
            "8/8 [==============================] - 0s 7ms/step - loss: nan - binary_crossentropy: nan - val_loss: nan - val_binary_crossentropy: nan\n",
            "Epoch 78/100\n",
            "8/8 [==============================] - 0s 9ms/step - loss: nan - binary_crossentropy: nan - val_loss: nan - val_binary_crossentropy: nan\n",
            "Epoch 79/100\n",
            "8/8 [==============================] - 0s 8ms/step - loss: nan - binary_crossentropy: nan - val_loss: nan - val_binary_crossentropy: nan\n",
            "Epoch 80/100\n",
            "8/8 [==============================] - 0s 5ms/step - loss: nan - binary_crossentropy: nan - val_loss: nan - val_binary_crossentropy: nan\n",
            "Epoch 81/100\n",
            "8/8 [==============================] - 0s 6ms/step - loss: nan - binary_crossentropy: nan - val_loss: nan - val_binary_crossentropy: nan\n",
            "Epoch 82/100\n",
            "8/8 [==============================] - 0s 6ms/step - loss: nan - binary_crossentropy: nan - val_loss: nan - val_binary_crossentropy: nan\n",
            "Epoch 83/100\n",
            "8/8 [==============================] - 0s 10ms/step - loss: nan - binary_crossentropy: nan - val_loss: nan - val_binary_crossentropy: nan\n",
            "Epoch 84/100\n",
            "8/8 [==============================] - 0s 9ms/step - loss: nan - binary_crossentropy: nan - val_loss: nan - val_binary_crossentropy: nan\n",
            "Epoch 85/100\n",
            "8/8 [==============================] - 0s 10ms/step - loss: nan - binary_crossentropy: nan - val_loss: nan - val_binary_crossentropy: nan\n",
            "Epoch 86/100\n",
            "8/8 [==============================] - 0s 11ms/step - loss: nan - binary_crossentropy: nan - val_loss: nan - val_binary_crossentropy: nan\n",
            "Epoch 87/100\n",
            "8/8 [==============================] - 0s 9ms/step - loss: nan - binary_crossentropy: nan - val_loss: nan - val_binary_crossentropy: nan\n",
            "Epoch 88/100\n",
            "8/8 [==============================] - 0s 7ms/step - loss: nan - binary_crossentropy: nan - val_loss: nan - val_binary_crossentropy: nan\n",
            "Epoch 89/100\n",
            "8/8 [==============================] - 0s 9ms/step - loss: nan - binary_crossentropy: nan - val_loss: nan - val_binary_crossentropy: nan\n",
            "Epoch 90/100\n",
            "8/8 [==============================] - 0s 9ms/step - loss: nan - binary_crossentropy: nan - val_loss: nan - val_binary_crossentropy: nan\n",
            "Epoch 91/100\n",
            "8/8 [==============================] - 0s 10ms/step - loss: nan - binary_crossentropy: nan - val_loss: nan - val_binary_crossentropy: nan\n",
            "Epoch 92/100\n",
            "8/8 [==============================] - 0s 7ms/step - loss: nan - binary_crossentropy: nan - val_loss: nan - val_binary_crossentropy: nan\n",
            "Epoch 93/100\n",
            "8/8 [==============================] - 0s 11ms/step - loss: nan - binary_crossentropy: nan - val_loss: nan - val_binary_crossentropy: nan\n",
            "Epoch 94/100\n",
            "8/8 [==============================] - 0s 8ms/step - loss: nan - binary_crossentropy: nan - val_loss: nan - val_binary_crossentropy: nan\n",
            "Epoch 95/100\n",
            "8/8 [==============================] - 0s 7ms/step - loss: nan - binary_crossentropy: nan - val_loss: nan - val_binary_crossentropy: nan\n",
            "Epoch 96/100\n",
            "8/8 [==============================] - 0s 10ms/step - loss: nan - binary_crossentropy: nan - val_loss: nan - val_binary_crossentropy: nan\n",
            "Epoch 97/100\n",
            "8/8 [==============================] - 0s 8ms/step - loss: nan - binary_crossentropy: nan - val_loss: nan - val_binary_crossentropy: nan\n",
            "Epoch 98/100\n",
            "8/8 [==============================] - 0s 10ms/step - loss: nan - binary_crossentropy: nan - val_loss: nan - val_binary_crossentropy: nan\n",
            "Epoch 99/100\n",
            "8/8 [==============================] - 0s 11ms/step - loss: nan - binary_crossentropy: nan - val_loss: nan - val_binary_crossentropy: nan\n",
            "Epoch 100/100\n",
            "8/8 [==============================] - 0s 11ms/step - loss: nan - binary_crossentropy: nan - val_loss: nan - val_binary_crossentropy: nan\n"
          ]
        }
      ],
      "source": [
        "from tensorflow import keras\n",
        "from tensorflow.keras import layers\n",
        "from tensorflow.keras.callbacks import ModelCheckpoint\n",
        "from tensorflow.keras.losses import BinaryCrossentropy\n",
        "from tensorflow.keras.optimizers import Adam\n",
        "\n",
        "model = keras.Sequential([\n",
        "    layers.Dense(32, activation='tanh', input_shape=[X_train.shape[1]]),\n",
        "    layers.Dropout(0.3),\n",
        "    layers.Dense(16, activation='tanh'),\n",
        "    layers.Dropout(0.3),\n",
        "    layers.Dense(32, activation='tanh'),\n",
        "    layers.Dropout(0.3),\n",
        "    layers.Dense(16, activation='tanh'),\n",
        "    layers.Dropout(0.3),\n",
        "    layers.Dense(1, activation='sigmoid')\n",
        "])\n",
        "\n",
        "bce = BinaryCrossentropy()\n",
        "model.compile(\n",
        "    loss=bce,\n",
        "    optimizer='adam',\n",
        "    metrics=[bce] \n",
        ")\n",
        "\n",
        "cp = ModelCheckpoint('model/', save_best_only=True)\n",
        "\n",
        "history = model.fit(\n",
        "    X_train, y_train,\n",
        "    validation_data=(X_val, y_val),\n",
        "    epochs=100,\n",
        "    batch_size=64,\n",
        "    callbacks=[cp]\n",
        ")"
      ]
    },
    {
      "cell_type": "code",
      "execution_count": 55,
      "metadata": {
        "colab": {
          "base_uri": "https://localhost:8080/"
        },
        "id": "HeOoCA9KDStw",
        "outputId": "01c8bc93-108b-4f19-e578-7f5d62338881"
      },
      "outputs": [
        {
          "name": "stdout",
          "output_type": "stream",
          "text": [
            "(469, 11)\n",
            "(469,)\n",
            "(411, 10)\n",
            "(411,)\n"
          ]
        }
      ],
      "source": [
        "# Quick sanity check with the shapes of Training and Testing datasets\n",
        "print(X_train.shape)\n",
        "print(y_train.shape)\n",
        "print(X_test.shape)\n",
        "print(y_test.shape)\n",
        "\n"
      ]
    },
    {
      "cell_type": "code",
      "execution_count": 56,
      "metadata": {
        "colab": {
          "base_uri": "https://localhost:8080/",
          "height": 314
        },
        "id": "0FU2NNZWEJcn",
        "outputId": "59d74743-f37f-436f-9bc4-494f2a5f415d"
      },
      "outputs": [
        {
          "data": {
            "text/plain": [
              "Text(0.5, 1.0, 'Loss Function Graph')"
            ]
          },
          "execution_count": 56,
          "metadata": {},
          "output_type": "execute_result"
        },
        {
          "data": {
            "image/png": "[encoded data removed]",
            "text/plain": [
              "<Figure size 432x288 with 1 Axes>"
            ]
          },
          "metadata": {},
          "output_type": "display_data"
        }
      ],
      "source": [
        "\n",
        "\n",
        "plt.style.use('seaborn-whitegrid')\n",
        "plt.rc('figure', autolayout=True)\n",
        "plt.rc('axes', labelweight='bold', labelsize='large',\n",
        "       titleweight='bold', titlesize=18, titlepad=10)\n",
        "plt.rc('animation', html='html5')\n",
        "\n",
        "history_df = pd.DataFrame(history.history)\n",
        "history_df.loc[0:, ['loss', 'val_loss']].plot().set_title('Loss Function Graph', fontsize=18)\n",
        "\n"
      ]
    },
    {
      "cell_type": "code",
      "execution_count": 64,
      "metadata": {
        "colab": {
          "base_uri": "https://localhost:8080/"
        },
        "id": "sipsufw6EkVl",
        "outputId": "b86a6205-b7b2-40c5-b0e7-f0c2a3e3c6db"
      },
      "outputs": [
        {
          "name": "stdout",
          "output_type": "stream",
          "text": [
            "Model: \"sequential_8\"\n",
            "_________________________________________________________________\n",
            " Layer (type)                Output Shape              Param #   \n",
            "=================================================================\n",
            " dense_23 (Dense)            (None, 64)                768       \n",
            "                                                                 \n",
            " dropout_8 (Dropout)         (None, 64)                0         \n",
            "                                                                 \n",
            " dense_24 (Dense)            (None, 32)                2080      \n",
            "                                                                 \n",
            " dropout_9 (Dropout)         (None, 32)                0         \n",
            "                                                                 \n",
            " dense_25 (Dense)            (None, 1)                 33        \n",
            "                                                                 \n",
            "=================================================================\n",
            "Total params: 2,881\n",
            "Trainable params: 2,881\n",
            "Non-trainable params: 0\n",
            "_________________________________________________________________\n"
          ]
        }
      ],
      "source": [
        "from keras.layers import Activation, Dense, Dropout\n",
        "##### Create a sequential model #####\n",
        "model = Sequential()\n",
        "\n",
        "##### Create first hidden layer with 64 neurons #####\n",
        "model.add(Dense(units = 64, activation = 'relu', kernel_initializer = 'he_normal', input_dim = X_train.shape[1]))\n",
        "model.add(Dropout(0.6))\n",
        "\n",
        "##### Create second hidden layer with 32 neurons #####\n",
        "model.add(Dense(units = 32, activation = 'relu', kernel_initializer = 'he_normal'))\n",
        "model.add(Dropout(0.5))\n",
        "\n",
        "##### Create an output layer with sigmoid #####\n",
        "model.add(Dense(units = 1, activation = 'sigmoid'))\n",
        "\n",
        "##### Compile the model #####\n",
        "model.compile(optimizer=  'Adam', loss = 'binary_crossentropy', metrics = ['accuracy'])\n",
        "\n",
        "##### Show the model summary #####\n",
        "model.summary()"
      ]
    },
    {
      "cell_type": "code",
      "execution_count": 64,
      "metadata": {
        "id": "E8WvdB5YG0Vf"
      },
      "outputs": [],
      "source": []
    },
    {
      "cell_type": "code",
      "execution_count": null,
      "metadata": {
        "id": "hDWbVKQXIuMs"
      },
      "outputs": [],
      "source": []
    }
  ],
  "metadata": {
    "colab": {
      "provenance": []
    },
    "kernelspec": {
      "display_name": "Python 3",
      "name": "python3"
    },
    "language_info": {
      "name": "python"
    }
  },
  "nbformat": 4,
  "nbformat_minor": 0
}
