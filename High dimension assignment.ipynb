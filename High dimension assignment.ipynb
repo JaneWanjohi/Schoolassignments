{
 "cells": [
  {
   "cell_type": "markdown",
   "id": "eight-apparel",
   "metadata": {},
   "source": [
    "## Analysis of High Dimensional Data - Lab 2\n",
    "## Unsupervised learning\n",
    "### SVD (singular value decomposition) \n",
    "\n",
    "\n",
    "###### Dr. Chamberlain Mbah --yields.io"
   ]
  },
  {
   "cell_type": "markdown",
   "id": "sunset-lounge",
   "metadata": {},
   "source": [
    "**The purpose of the following exercises is mainly to get more familiar with SVD, and with\n",
    "working with vectors and matrices in python. Perform all the tasks in python (i.e., Mathematical proofs\n",
    "are not needed)**"
   ]
  },
  {
   "cell_type": "markdown",
   "id": "large-exhibition",
   "metadata": {},
   "source": [
    "#### First we have to import relevant libraries"
   ]
  },
  {
   "cell_type": "code",
   "execution_count": 74,
   "id": "rational-intake",
   "metadata": {},
   "outputs": [],
   "source": [
    "import os #for operating system information such as working directory\n",
    "import numpy as np\n",
    "import pandas as pd # library in python which help us to read the data\n",
    "import matplotlib.pyplot as plt # for  ploting graph\n",
    "# We will import linear regression and two penalised regressions lasso and ridge\n",
    "from sklearn.linear_model import LinearRegression, Lasso, Ridge"
   ]
  },
  {
   "cell_type": "code",
   "execution_count": 75,
   "id": "civilian-heavy",
   "metadata": {},
   "outputs": [
    {
     "data": {
      "text/plain": [
       "'/home/samuel/AIMS_CAMEROON_2022_2023/HIGH_DIMENSION_DATA _ANALYSIS/Assignment_High_Dimensional_Data_Analysis'"
      ]
     },
     "execution_count": 75,
     "metadata": {},
     "output_type": "execute_result"
    }
   ],
   "source": [
    "#Set your working dirrection to the location of your data\n",
    "os.getcwd() # or pwd"
   ]
  },
  {
   "cell_type": "code",
   "execution_count": 76,
   "id": "protective-envelope",
   "metadata": {},
   "outputs": [],
   "source": [
    "#Data path \n",
    "pathData='/home/samuel/AIMS_CAMEROON_2022_2023/HIGH_DIMENSION_DATA _ANALYSIS/Assignment_High_Dimensional_Data_Analysis'"
   ]
  },
  {
   "cell_type": "markdown",
   "id": "current-portuguese",
   "metadata": {},
   "source": [
    "# Read in the data \n"
   ]
  },
  {
   "cell_type": "code",
   "execution_count": 77,
   "id": "spread-joseph",
   "metadata": {},
   "outputs": [],
   "source": [
    "# read data into a DataFrame\n",
    "X=pd.read_csv(pathData+'/cheese.csv',index_col=0)"
   ]
  },
  {
   "cell_type": "markdown",
   "id": "printable-discharge",
   "metadata": {},
   "source": [
    "## Exercises "
   ]
  },
  {
   "cell_type": "markdown",
   "id": "periodic-botswana",
   "metadata": {},
   "source": [
    "1.) Let's view the first 10 observations in the dataset "
   ]
  },
  {
   "cell_type": "code",
   "execution_count": 78,
   "id": "nasty-closure",
   "metadata": {},
   "outputs": [
    {
     "data": {
      "text/html": [
       "<div>\n",
       "<style scoped>\n",
       "    .dataframe tbody tr th:only-of-type {\n",
       "        vertical-align: middle;\n",
       "    }\n",
       "\n",
       "    .dataframe tbody tr th {\n",
       "        vertical-align: top;\n",
       "    }\n",
       "\n",
       "    .dataframe thead th {\n",
       "        text-align: right;\n",
       "    }\n",
       "</style>\n",
       "<table border=\"1\" class=\"dataframe\">\n",
       "  <thead>\n",
       "    <tr style=\"text-align: right;\">\n",
       "      <th></th>\n",
       "      <th>taste</th>\n",
       "      <th>Acetic</th>\n",
       "      <th>H2S</th>\n",
       "      <th>Lactic</th>\n",
       "    </tr>\n",
       "    <tr>\n",
       "      <th>Case</th>\n",
       "      <th></th>\n",
       "      <th></th>\n",
       "      <th></th>\n",
       "      <th></th>\n",
       "    </tr>\n",
       "  </thead>\n",
       "  <tbody>\n",
       "    <tr>\n",
       "      <th>1</th>\n",
       "      <td>12.3</td>\n",
       "      <td>4.543</td>\n",
       "      <td>3.135</td>\n",
       "      <td>0.86</td>\n",
       "    </tr>\n",
       "    <tr>\n",
       "      <th>2</th>\n",
       "      <td>20.9</td>\n",
       "      <td>5.159</td>\n",
       "      <td>5.043</td>\n",
       "      <td>1.53</td>\n",
       "    </tr>\n",
       "    <tr>\n",
       "      <th>3</th>\n",
       "      <td>39.0</td>\n",
       "      <td>5.366</td>\n",
       "      <td>5.438</td>\n",
       "      <td>1.57</td>\n",
       "    </tr>\n",
       "    <tr>\n",
       "      <th>4</th>\n",
       "      <td>47.9</td>\n",
       "      <td>5.759</td>\n",
       "      <td>7.496</td>\n",
       "      <td>1.81</td>\n",
       "    </tr>\n",
       "    <tr>\n",
       "      <th>5</th>\n",
       "      <td>5.6</td>\n",
       "      <td>4.663</td>\n",
       "      <td>3.807</td>\n",
       "      <td>0.99</td>\n",
       "    </tr>\n",
       "    <tr>\n",
       "      <th>6</th>\n",
       "      <td>25.9</td>\n",
       "      <td>5.697</td>\n",
       "      <td>7.601</td>\n",
       "      <td>1.09</td>\n",
       "    </tr>\n",
       "    <tr>\n",
       "      <th>7</th>\n",
       "      <td>37.3</td>\n",
       "      <td>5.892</td>\n",
       "      <td>8.726</td>\n",
       "      <td>1.29</td>\n",
       "    </tr>\n",
       "    <tr>\n",
       "      <th>8</th>\n",
       "      <td>21.9</td>\n",
       "      <td>6.078</td>\n",
       "      <td>7.966</td>\n",
       "      <td>1.78</td>\n",
       "    </tr>\n",
       "    <tr>\n",
       "      <th>9</th>\n",
       "      <td>18.1</td>\n",
       "      <td>4.898</td>\n",
       "      <td>3.850</td>\n",
       "      <td>1.29</td>\n",
       "    </tr>\n",
       "    <tr>\n",
       "      <th>10</th>\n",
       "      <td>21.0</td>\n",
       "      <td>5.242</td>\n",
       "      <td>4.174</td>\n",
       "      <td>1.58</td>\n",
       "    </tr>\n",
       "  </tbody>\n",
       "</table>\n",
       "</div>"
      ],
      "text/plain": [
       "      taste  Acetic    H2S  Lactic\n",
       "Case                              \n",
       "1      12.3   4.543  3.135    0.86\n",
       "2      20.9   5.159  5.043    1.53\n",
       "3      39.0   5.366  5.438    1.57\n",
       "4      47.9   5.759  7.496    1.81\n",
       "5       5.6   4.663  3.807    0.99\n",
       "6      25.9   5.697  7.601    1.09\n",
       "7      37.3   5.892  8.726    1.29\n",
       "8      21.9   6.078  7.966    1.78\n",
       "9      18.1   4.898  3.850    1.29\n",
       "10     21.0   5.242  4.174    1.58"
      ]
     },
     "execution_count": 78,
     "metadata": {},
     "output_type": "execute_result"
    }
   ],
   "source": [
    "X.head(10) # note that by default i.e.,python print just the five first observations"
   ]
  },
  {
   "cell_type": "markdown",
   "id": "stupid-bangladesh",
   "metadata": {},
   "source": [
    "2.) The command to view the tail 10 observations in the dataset is the following:"
   ]
  },
  {
   "cell_type": "code",
   "execution_count": 79,
   "id": "personalized-genre",
   "metadata": {},
   "outputs": [
    {
     "data": {
      "text/html": [
       "<div>\n",
       "<style scoped>\n",
       "    .dataframe tbody tr th:only-of-type {\n",
       "        vertical-align: middle;\n",
       "    }\n",
       "\n",
       "    .dataframe tbody tr th {\n",
       "        vertical-align: top;\n",
       "    }\n",
       "\n",
       "    .dataframe thead th {\n",
       "        text-align: right;\n",
       "    }\n",
       "</style>\n",
       "<table border=\"1\" class=\"dataframe\">\n",
       "  <thead>\n",
       "    <tr style=\"text-align: right;\">\n",
       "      <th></th>\n",
       "      <th>taste</th>\n",
       "      <th>Acetic</th>\n",
       "      <th>H2S</th>\n",
       "      <th>Lactic</th>\n",
       "    </tr>\n",
       "    <tr>\n",
       "      <th>Case</th>\n",
       "      <th></th>\n",
       "      <th></th>\n",
       "      <th></th>\n",
       "      <th></th>\n",
       "    </tr>\n",
       "  </thead>\n",
       "  <tbody>\n",
       "    <tr>\n",
       "      <th>21</th>\n",
       "      <td>14.0</td>\n",
       "      <td>4.564</td>\n",
       "      <td>4.949</td>\n",
       "      <td>1.15</td>\n",
       "    </tr>\n",
       "    <tr>\n",
       "      <th>22</th>\n",
       "      <td>15.2</td>\n",
       "      <td>5.298</td>\n",
       "      <td>5.220</td>\n",
       "      <td>1.33</td>\n",
       "    </tr>\n",
       "    <tr>\n",
       "      <th>23</th>\n",
       "      <td>32.0</td>\n",
       "      <td>5.455</td>\n",
       "      <td>9.242</td>\n",
       "      <td>1.44</td>\n",
       "    </tr>\n",
       "    <tr>\n",
       "      <th>24</th>\n",
       "      <td>56.7</td>\n",
       "      <td>5.855</td>\n",
       "      <td>10.199</td>\n",
       "      <td>2.01</td>\n",
       "    </tr>\n",
       "    <tr>\n",
       "      <th>25</th>\n",
       "      <td>16.8</td>\n",
       "      <td>5.366</td>\n",
       "      <td>3.664</td>\n",
       "      <td>1.31</td>\n",
       "    </tr>\n",
       "    <tr>\n",
       "      <th>26</th>\n",
       "      <td>11.6</td>\n",
       "      <td>6.043</td>\n",
       "      <td>3.219</td>\n",
       "      <td>1.46</td>\n",
       "    </tr>\n",
       "    <tr>\n",
       "      <th>27</th>\n",
       "      <td>26.5</td>\n",
       "      <td>6.458</td>\n",
       "      <td>6.962</td>\n",
       "      <td>1.72</td>\n",
       "    </tr>\n",
       "    <tr>\n",
       "      <th>28</th>\n",
       "      <td>0.7</td>\n",
       "      <td>5.328</td>\n",
       "      <td>3.912</td>\n",
       "      <td>1.25</td>\n",
       "    </tr>\n",
       "    <tr>\n",
       "      <th>29</th>\n",
       "      <td>13.4</td>\n",
       "      <td>5.802</td>\n",
       "      <td>6.685</td>\n",
       "      <td>1.08</td>\n",
       "    </tr>\n",
       "    <tr>\n",
       "      <th>30</th>\n",
       "      <td>5.5</td>\n",
       "      <td>6.176</td>\n",
       "      <td>4.787</td>\n",
       "      <td>1.25</td>\n",
       "    </tr>\n",
       "  </tbody>\n",
       "</table>\n",
       "</div>"
      ],
      "text/plain": [
       "      taste  Acetic     H2S  Lactic\n",
       "Case                               \n",
       "21     14.0   4.564   4.949    1.15\n",
       "22     15.2   5.298   5.220    1.33\n",
       "23     32.0   5.455   9.242    1.44\n",
       "24     56.7   5.855  10.199    2.01\n",
       "25     16.8   5.366   3.664    1.31\n",
       "26     11.6   6.043   3.219    1.46\n",
       "27     26.5   6.458   6.962    1.72\n",
       "28      0.7   5.328   3.912    1.25\n",
       "29     13.4   5.802   6.685    1.08\n",
       "30      5.5   6.176   4.787    1.25"
      ]
     },
     "execution_count": 79,
     "metadata": {},
     "output_type": "execute_result"
    }
   ],
   "source": [
    "X.tail(10) # this command help us to view the 10 last rows of our dataset"
   ]
  },
  {
   "cell_type": "markdown",
   "id": "second-hotel",
   "metadata": {},
   "source": [
    "3.)Command to get the dimension of any data:  "
   ]
  },
  {
   "cell_type": "code",
   "execution_count": 80,
   "id": "advance-lancaster",
   "metadata": {},
   "outputs": [
    {
     "data": {
      "text/plain": [
       "(30, 4)"
      ]
     },
     "execution_count": 80,
     "metadata": {},
     "output_type": "execute_result"
    }
   ],
   "source": [
    "X.shape"
   ]
  },
  {
   "cell_type": "markdown",
   "id": "sitting-camel",
   "metadata": {},
   "source": [
    "This is not a high-dimensional data because the number of observations (n=30) is greater than the number of feartures(p=5)"
   ]
  },
  {
   "cell_type": "markdown",
   "id": "aging-rating",
   "metadata": {},
   "source": [
    "4.)Command to view a summary of a data by using the transpose:"
   ]
  },
  {
   "cell_type": "code",
   "execution_count": 81,
   "id": "swiss-peace",
   "metadata": {},
   "outputs": [
    {
     "data": {
      "text/html": [
       "<div>\n",
       "<style scoped>\n",
       "    .dataframe tbody tr th:only-of-type {\n",
       "        vertical-align: middle;\n",
       "    }\n",
       "\n",
       "    .dataframe tbody tr th {\n",
       "        vertical-align: top;\n",
       "    }\n",
       "\n",
       "    .dataframe thead th {\n",
       "        text-align: right;\n",
       "    }\n",
       "</style>\n",
       "<table border=\"1\" class=\"dataframe\">\n",
       "  <thead>\n",
       "    <tr style=\"text-align: right;\">\n",
       "      <th></th>\n",
       "      <th>count</th>\n",
       "      <th>mean</th>\n",
       "      <th>std</th>\n",
       "      <th>min</th>\n",
       "      <th>25%</th>\n",
       "      <th>50%</th>\n",
       "      <th>75%</th>\n",
       "      <th>max</th>\n",
       "    </tr>\n",
       "  </thead>\n",
       "  <tbody>\n",
       "    <tr>\n",
       "      <th>taste</th>\n",
       "      <td>30.0</td>\n",
       "      <td>24.533333</td>\n",
       "      <td>16.255383</td>\n",
       "      <td>0.700</td>\n",
       "      <td>13.5500</td>\n",
       "      <td>20.950</td>\n",
       "      <td>36.70000</td>\n",
       "      <td>57.200</td>\n",
       "    </tr>\n",
       "    <tr>\n",
       "      <th>Acetic</th>\n",
       "      <td>30.0</td>\n",
       "      <td>5.498033</td>\n",
       "      <td>0.570878</td>\n",
       "      <td>4.477</td>\n",
       "      <td>5.2375</td>\n",
       "      <td>5.425</td>\n",
       "      <td>5.88275</td>\n",
       "      <td>6.458</td>\n",
       "    </tr>\n",
       "    <tr>\n",
       "      <th>H2S</th>\n",
       "      <td>30.0</td>\n",
       "      <td>5.941767</td>\n",
       "      <td>2.126879</td>\n",
       "      <td>2.996</td>\n",
       "      <td>3.9775</td>\n",
       "      <td>5.329</td>\n",
       "      <td>7.57475</td>\n",
       "      <td>10.199</td>\n",
       "    </tr>\n",
       "    <tr>\n",
       "      <th>Lactic</th>\n",
       "      <td>30.0</td>\n",
       "      <td>1.442000</td>\n",
       "      <td>0.303490</td>\n",
       "      <td>0.860</td>\n",
       "      <td>1.2500</td>\n",
       "      <td>1.450</td>\n",
       "      <td>1.66750</td>\n",
       "      <td>2.010</td>\n",
       "    </tr>\n",
       "  </tbody>\n",
       "</table>\n",
       "</div>"
      ],
      "text/plain": [
       "        count       mean        std    min      25%     50%       75%     max\n",
       "taste    30.0  24.533333  16.255383  0.700  13.5500  20.950  36.70000  57.200\n",
       "Acetic   30.0   5.498033   0.570878  4.477   5.2375   5.425   5.88275   6.458\n",
       "H2S      30.0   5.941767   2.126879  2.996   3.9775   5.329   7.57475  10.199\n",
       "Lactic   30.0   1.442000   0.303490  0.860   1.2500   1.450   1.66750   2.010"
      ]
     },
     "execution_count": 81,
     "metadata": {},
     "output_type": "execute_result"
    }
   ],
   "source": [
    "X.describe().T #  summary of  data, T means transpose"
   ]
  },
  {
   "cell_type": "markdown",
   "id": "pursuant-gambling",
   "metadata": {},
   "source": [
    "5.) Scale your data, i.e., substract the mean from each column and \n",
    "divide by its standard deviation"
   ]
  },
  {
   "cell_type": "code",
   "execution_count": 82,
   "id": "expensive-netherlands",
   "metadata": {},
   "outputs": [],
   "source": [
    "mean=X.mean()\n",
    "sds=X.std()\n",
    "X_scaled=(X-mean)/sds"
   ]
  },
  {
   "cell_type": "markdown",
   "id": "coral-career",
   "metadata": {},
   "source": [
    "6.) Verify that X is indeed scaled"
   ]
  },
  {
   "cell_type": "code",
   "execution_count": 83,
   "id": "suspended-community",
   "metadata": {},
   "outputs": [
    {
     "data": {
      "text/html": [
       "<div>\n",
       "<style scoped>\n",
       "    .dataframe tbody tr th:only-of-type {\n",
       "        vertical-align: middle;\n",
       "    }\n",
       "\n",
       "    .dataframe tbody tr th {\n",
       "        vertical-align: top;\n",
       "    }\n",
       "\n",
       "    .dataframe thead th {\n",
       "        text-align: right;\n",
       "    }\n",
       "</style>\n",
       "<table border=\"1\" class=\"dataframe\">\n",
       "  <thead>\n",
       "    <tr style=\"text-align: right;\">\n",
       "      <th></th>\n",
       "      <th>count</th>\n",
       "      <th>mean</th>\n",
       "      <th>std</th>\n",
       "      <th>min</th>\n",
       "      <th>25%</th>\n",
       "      <th>50%</th>\n",
       "      <th>75%</th>\n",
       "      <th>max</th>\n",
       "    </tr>\n",
       "  </thead>\n",
       "  <tbody>\n",
       "    <tr>\n",
       "      <th>taste</th>\n",
       "      <td>30.0</td>\n",
       "      <td>2.960595e-16</td>\n",
       "      <td>1.0</td>\n",
       "      <td>-1.466181</td>\n",
       "      <td>-0.675674</td>\n",
       "      <td>-0.220440</td>\n",
       "      <td>0.748470</td>\n",
       "      <td>2.009591</td>\n",
       "    </tr>\n",
       "    <tr>\n",
       "      <th>Acetic</th>\n",
       "      <td>30.0</td>\n",
       "      <td>-2.176037e-15</td>\n",
       "      <td>1.0</td>\n",
       "      <td>-1.788530</td>\n",
       "      <td>-0.456373</td>\n",
       "      <td>-0.127932</td>\n",
       "      <td>0.673903</td>\n",
       "      <td>1.681561</td>\n",
       "    </tr>\n",
       "    <tr>\n",
       "      <th>H2S</th>\n",
       "      <td>30.0</td>\n",
       "      <td>2.257453e-16</td>\n",
       "      <td>1.0</td>\n",
       "      <td>-1.385018</td>\n",
       "      <td>-0.923544</td>\n",
       "      <td>-0.288106</td>\n",
       "      <td>0.767784</td>\n",
       "      <td>2.001634</td>\n",
       "    </tr>\n",
       "    <tr>\n",
       "      <th>Lactic</th>\n",
       "      <td>30.0</td>\n",
       "      <td>8.770762e-16</td>\n",
       "      <td>1.0</td>\n",
       "      <td>-1.917691</td>\n",
       "      <td>-0.632640</td>\n",
       "      <td>0.026360</td>\n",
       "      <td>0.743023</td>\n",
       "      <td>1.871561</td>\n",
       "    </tr>\n",
       "  </tbody>\n",
       "</table>\n",
       "</div>"
      ],
      "text/plain": [
       "        count          mean  std       min       25%       50%       75%  \\\n",
       "taste    30.0  2.960595e-16  1.0 -1.466181 -0.675674 -0.220440  0.748470   \n",
       "Acetic   30.0 -2.176037e-15  1.0 -1.788530 -0.456373 -0.127932  0.673903   \n",
       "H2S      30.0  2.257453e-16  1.0 -1.385018 -0.923544 -0.288106  0.767784   \n",
       "Lactic   30.0  8.770762e-16  1.0 -1.917691 -0.632640  0.026360  0.743023   \n",
       "\n",
       "             max  \n",
       "taste   2.009591  \n",
       "Acetic  1.681561  \n",
       "H2S     2.001634  \n",
       "Lactic  1.871561  "
      ]
     },
     "execution_count": 83,
     "metadata": {},
     "output_type": "execute_result"
    }
   ],
   "source": [
    "X_scaled.describe().T "
   ]
  },
  {
   "cell_type": "markdown",
   "id": "informal-hampshire",
   "metadata": {},
   "source": [
    "As the mean tend to zero and the standart deviation equal to one we can conclude that our data is centered and normalize."
   ]
  },
  {
   "cell_type": "markdown",
   "id": "vocal-chuck",
   "metadata": {},
   "source": [
    "6a.) Rank of X:"
   ]
  },
  {
   "cell_type": "code",
   "execution_count": 84,
   "id": "affecting-detection",
   "metadata": {},
   "outputs": [
    {
     "data": {
      "text/plain": [
       "4"
      ]
     },
     "execution_count": 84,
     "metadata": {},
     "output_type": "execute_result"
    }
   ],
   "source": [
    "np.linalg.matrix_rank(X_scaled) # which linalg is linear algebra and matrix_rank give us the rank of the matrix\n",
    "# which is X_scaled"
   ]
  },
  {
   "cell_type": "markdown",
   "id": "attractive-combat",
   "metadata": {},
   "source": [
    "7.) Let's perform SVD on X as we saw in the course notes and\n",
    "store our results as $U$, $D$, and $V\\_tranpose$"
   ]
  },
  {
   "cell_type": "code",
   "execution_count": 85,
   "id": "formal-airport",
   "metadata": {},
   "outputs": [
    {
     "data": {
      "text/plain": [
       "((30, 4), (4,), (4, 4))"
      ]
     },
     "execution_count": 85,
     "metadata": {},
     "output_type": "execute_result"
    }
   ],
   "source": [
    "U,D,V_transpose=np.linalg.svd(X_scaled,full_matrices=False) #if we didn't put full_matices, it means that our matix \n",
    "# is in his complete or total form and the result we are going to get is by default. Si recommend to put \n",
    "# full_matrices=False, that option implement an optimal reduced rank approximation of a matrix\n",
    "U.shape, D.shape,V_transpose.shape # to get the dimension of each matrix and we can observe that the forms are \n",
    "#consistent,we can do multiplication on them"
   ]
  },
  {
   "cell_type": "markdown",
   "id": "cardiac-resource",
   "metadata": {},
   "source": [
    "8.) Let us show that $\\mathbf u_1$ is a normalised vector;the same for $\\mathbf u_2$.\n",
    "Let's show too that $\\mathbf u_1$ and $\\mathbf u_2$  are orthogonal vectors. Then let's show the \n",
    "orthonormality of all vectors $\\mathbf u_j$ in a single calculation (by using the matrix $\\mathbf U$).\n",
    "Similarly, the orthonormality of all vectors $\\mathbf v_j$ in a single calculation \n",
    " ( by using the matrix $\\mathbf V$). Then finnaly we are going to check if we obtain the result we expected and if not, we are going to explain."
   ]
  },
  {
   "cell_type": "code",
   "execution_count": 86,
   "id": "scenic-incidence",
   "metadata": {},
   "outputs": [
    {
     "data": {
      "text/plain": [
       "array([[1.]])"
      ]
     },
     "execution_count": 86,
     "metadata": {},
     "output_type": "execute_result"
    }
   ],
   "source": [
    " # u_1 is a normalised vector is if its transpose product by itself give us an identity, one everywhere on the \n",
    "# diagonal and zero otherwise.\n",
    "u_1=U[:,0:1] # extraction of u_1 vector from the matrix U\n",
    "np.dot(u_1.T,u_1) #"
   ]
  },
  {
   "cell_type": "markdown",
   "id": "military-punishment",
   "metadata": {},
   "source": [
    " So we can conclude that u_1 is normalised because the product give us 1 (u_1 is one imension) means identity."
   ]
  },
  {
   "cell_type": "code",
   "execution_count": 87,
   "id": "engaged-reader",
   "metadata": {},
   "outputs": [
    {
     "data": {
      "text/plain": [
       "array([[1.00000000e+00, 1.58211509e-16],\n",
       "       [1.58211509e-16, 1.00000000e+00]])"
      ]
     },
     "execution_count": 87,
     "metadata": {},
     "output_type": "execute_result"
    }
   ],
   "source": [
    "# in the same way let's compute u_2\n",
    "u_2=U[:,0:2]\n",
    "u_2.T.dot(u_2)"
   ]
  },
  {
   "cell_type": "markdown",
   "id": "national-financing",
   "metadata": {},
   "source": [
    "We can conclude that u_2 is also normalised because $1.58211509\\times 10^{-16}$ is approximatively equal to zero. So we identity and then u_2 is nomalised."
   ]
  },
  {
   "cell_type": "code",
   "execution_count": 88,
   "id": "exposed-precipitation",
   "metadata": {},
   "outputs": [
    {
     "data": {
      "text/plain": [
       "array([[1.00000000e+00, 1.58211509e-16]])"
      ]
     },
     "execution_count": 88,
     "metadata": {},
     "output_type": "execute_result"
    }
   ],
   "source": [
    "#Note that two vector (or matrix) are orthogonal if their product give a matrix which which the elemnts of the\n",
    "# diagonal are diffrent from zero (not necessary one) and equal to zero otherwise.\n",
    "u_1.T.dot(u_2) # orthogonality "
   ]
  },
  {
   "cell_type": "markdown",
   "id": "bulgarian-spotlight",
   "metadata": {},
   "source": [
    "So u_1 and u_2 are orthogonal because $1.58211509\\times 10^{-16}$ tend to zero."
   ]
  },
  {
   "cell_type": "code",
   "execution_count": 89,
   "id": "suspended-contribution",
   "metadata": {},
   "outputs": [
    {
     "data": {
      "text/plain": [
       "array([[ 1.00000000e+00,  1.58211509e-16,  1.54258491e-17,\n",
       "         3.98800013e-16],\n",
       "       [ 1.58211509e-16,  1.00000000e+00,  4.97195777e-17,\n",
       "         1.62519137e-16],\n",
       "       [ 1.54258491e-17,  4.97195777e-17,  1.00000000e+00,\n",
       "        -9.04317440e-17],\n",
       "       [ 3.98800013e-16,  1.62519137e-16, -9.04317440e-17,\n",
       "         1.00000000e+00]])"
      ]
     },
     "execution_count": 89,
     "metadata": {},
     "output_type": "execute_result"
    }
   ],
   "source": [
    "# As U contain u_j, j=1,..,4, then u_j vectors are orthonormal if and ongly if U is orthonormal i.e., the product\n",
    "# between the tranpose of U and U give identity.\n",
    "np.dot(U.T,U)"
   ]
  },
  {
   "cell_type": "markdown",
   "id": "coupled-anaheim",
   "metadata": {},
   "source": [
    "As we can observe in the matrix above, we have 1 on the main diagonal and approximatively zero everywhere, so we can easily conlude that U is orthonormal and therefore $u_j$ are orthonormal."
   ]
  },
  {
   "cell_type": "code",
   "execution_count": 90,
   "id": "handed-poetry",
   "metadata": {},
   "outputs": [
    {
     "data": {
      "text/plain": [
       "array([[ 1.00000000e+00,  3.62272254e-16, -1.40294248e-16,\n",
       "         1.33057045e-17],\n",
       "       [ 3.62272254e-16,  1.00000000e+00, -6.07900990e-17,\n",
       "        -3.09912231e-16],\n",
       "       [-1.40294248e-16, -6.07900990e-17,  1.00000000e+00,\n",
       "         1.59691511e-16],\n",
       "       [ 1.33057045e-17, -3.09912231e-16,  1.59691511e-16,\n",
       "         1.00000000e+00]])"
      ]
     },
     "execution_count": 90,
     "metadata": {},
     "output_type": "execute_result"
    }
   ],
   "source": [
    "# in the same for V we have:\n",
    "np.dot(V_transpose.T,V_transpose)"
   ]
  },
  {
   "cell_type": "markdown",
   "id": "surgical-maria",
   "metadata": {},
   "source": [
    "In the same we have approximatively an identity matrix so $v_j$ are orthonormal."
   ]
  },
  {
   "cell_type": "markdown",
   "id": "foreign-bonus",
   "metadata": {},
   "source": [
    "In short we can conclude that we don't obtain the expected results,that it's because in python we have a certain decimal after comma which is not the case theoretically. So python give us an approximate value with decimal part which is the fact that we made a certain erreur mannualy."
   ]
  },
  {
   "cell_type": "markdown",
   "id": "secure-found",
   "metadata": {},
   "source": [
    "9.) Let's check that python has performed the SVD correctly, \n",
    "i.e., calculate the matrix $\\mathbf X$  from the elements of the SVD. \n",
    "In two different ways:"
   ]
  },
  {
   "cell_type": "markdown",
   "id": "furnished-lying",
   "metadata": {},
   "source": [
    "(1) via the sum definition of the SVD"
   ]
  },
  {
   "cell_type": "code",
   "execution_count": 91,
   "id": "documented-drama",
   "metadata": {
    "scrolled": true
   },
   "outputs": [
    {
     "data": {
      "text/plain": [
       "array([[-0.75257122, -1.67291914, -1.31966437, -1.91769058],\n",
       "       [-0.2235157 , -0.59388016, -0.42257533,  0.28996009],\n",
       "       [ 0.88996161, -0.23128103, -0.23685721,  0.42176013],\n",
       "       [ 1.43747255,  0.45713182,  0.7307577 ,  1.21256037],\n",
       "       [-1.16474238, -1.46271674, -1.00370848, -1.48934045],\n",
       "       [ 0.08407471,  0.34852725,  0.78012581, -1.15984035],\n",
       "       [ 0.78538087,  0.69010615,  1.30906982, -0.50084015],\n",
       "       [-0.16199762,  1.01591986,  0.95173875,  1.11371034],\n",
       "       [-0.39576634, -1.05107038, -0.98349107, -0.50084015],\n",
       "       [-0.2173639 , -0.44849017, -0.83115519,  0.45471014],\n",
       "       [ 0.63773747,  0.42384978,  0.0941442 ,  0.78421024],\n",
       "       [ 2.00959073,  1.66054055,  0.92446875,  1.50911046],\n",
       "       [-1.46618099, -1.78853045, -1.38501834, -1.25869038],\n",
       "       [ 0.08407471, -0.45900029, -0.47006275, -0.46789014],\n",
       "       [ 1.86809914,  1.14379299,  0.38094939,  0.25701008],\n",
       "       [ 1.00684597,  1.51865393,  1.71435847,  0.9819103 ],\n",
       "       [-0.53110612, -1.24550759, -0.95434038, -0.92919028],\n",
       "       [-1.11552792, -0.15070344, -0.58384448,  0.15816005],\n",
       "       [-0.40191815, -0.43973174,  0.10918972,  0.61946019],\n",
       "       [ 0.8838098 , -0.10515959,  1.46798811,  1.80566055],\n",
       "       [-0.64799048, -1.63613372, -0.46677154, -0.96214029],\n",
       "       [-0.57416878, -0.35039572, -0.3393548 , -0.36904011],\n",
       "       [ 0.45933502, -0.07538092,  1.55167881, -0.00659   ],\n",
       "       [ 1.97883169,  0.62529374,  2.00163384,  1.87156057],\n",
       "       [-0.47573985, -0.23128103, -1.07094314, -0.43494013],\n",
       "       [-0.79563388,  0.95461083, -1.28016989,  0.05931002],\n",
       "       [ 0.12098556,  1.68156079,  0.47968561,  0.91601028],\n",
       "       [-1.46618099, -0.29784512, -0.95434038, -0.63264019],\n",
       "       [-0.68490133,  0.53245435,  0.34944784, -1.19279036],\n",
       "       [-1.17089419,  1.18758516, -0.54293948, -0.63264019]])"
      ]
     },
     "execution_count": 91,
     "metadata": {},
     "output_type": "execute_result"
    }
   ],
   "source": [
    "D_diag=np.diag(D)\n",
    "Xsum=np.zeros([30,4])\n",
    "for i in range(0,4):\n",
    "    s=np.dot(U[:,i].reshape(30,1),V_transpose[i].reshape(1,4))\n",
    "    Xsum+=s*D_diag[i,i]\n",
    "Xsum"
   ]
  },
  {
   "cell_type": "markdown",
   "id": "phantom-margin",
   "metadata": {},
   "source": [
    "(2) via the matrix notation of the SVD"
   ]
  },
  {
   "cell_type": "code",
   "execution_count": 92,
   "id": "breeding-balloon",
   "metadata": {},
   "outputs": [],
   "source": [
    "U,D,V_transpose=np.linalg.svd(X_scaled,full_matrices=False)"
   ]
  },
  {
   "cell_type": "markdown",
   "id": "tested-municipality",
   "metadata": {},
   "source": [
    "(3) Let's verify that the obtained results are identical to the matrix $\\mathbf X$:"
   ]
  },
  {
   "cell_type": "code",
   "execution_count": 93,
   "id": "imported-interaction",
   "metadata": {},
   "outputs": [
    {
     "data": {
      "text/plain": [
       "True"
      ]
     },
     "execution_count": 93,
     "metadata": {},
     "output_type": "execute_result"
    }
   ],
   "source": [
    "np.allclose(X_scaled,Xsum) # To compare X_scaled and the results using sum definition of the SVD. "
   ]
  },
  {
   "cell_type": "code",
   "execution_count": 95,
   "id": "conditional-casino",
   "metadata": {},
   "outputs": [
    {
     "ename": "SyntaxError",
     "evalue": "unexpected EOF while parsing (<ipython-input-95-2820d5ba6585>, line 2)",
     "output_type": "error",
     "traceback": [
      "\u001b[0;36m  File \u001b[0;32m\"<ipython-input-95-2820d5ba6585>\"\u001b[0;36m, line \u001b[0;32m2\u001b[0m\n\u001b[0;31m    np.allclose(X_scaled,np.dot(U,np.dot(np.diag(D),V_transpose))\u001b[0m\n\u001b[0m                                                                 ^\u001b[0m\n\u001b[0;31mSyntaxError\u001b[0m\u001b[0;31m:\u001b[0m unexpected EOF while parsing\n"
     ]
    }
   ],
   "source": [
    "# for matrix notation SVD\n",
    "np.allclose(X_scaled,np.dot(U,np.dot(np.diag(D),V_transpose))\n"
   ]
  },
  {
   "cell_type": "code",
   "execution_count": null,
   "id": "apart-ethernet",
   "metadata": {},
   "outputs": [],
   "source": []
  }
 ],
 "metadata": {
  "kernelspec": {
   "display_name": "Python 3",
   "language": "python",
   "name": "python3"
  },
  "language_info": {
   "codemirror_mode": {
    "name": "ipython",
    "version": 3
   },
   "file_extension": ".py",
   "mimetype": "text/x-python",
   "name": "python",
   "nbconvert_exporter": "python",
   "pygments_lexer": "ipython3",
   "version": "3.9.2"
  }
 },
 "nbformat": 4,
 "nbformat_minor": 5
}
